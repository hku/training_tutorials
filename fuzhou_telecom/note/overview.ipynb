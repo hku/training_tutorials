{
 "cells": [
  {
   "cell_type": "markdown",
   "metadata": {},
   "source": [
    "# Overview"
   ]
  },
  {
   "cell_type": "code",
   "execution_count": 1,
   "metadata": {
    "collapsed": true
   },
   "outputs": [],
   "source": [
    "%matplotlib inline"
   ]
  },
  {
   "cell_type": "markdown",
   "metadata": {},
   "source": [
    "### 一个简单例子\n",
    "\n",
    "**经验数据** :100个人的工资水平和他平均每月的信用卡消费 "
   ]
  },
  {
   "cell_type": "code",
   "execution_count": 2,
   "metadata": {
    "scrolled": false
   },
   "outputs": [
    {
     "name": "stdout",
     "output_type": "stream",
     "text": [
      "x_min: 0.31 x_max: 4.98\n",
      "y_min: 0.23 y_max: 2.54\n"
     ]
    },
    {
     "data": {
      "image/png": "[encoded data removed]",
      "text/plain": [
       "<matplotlib.figure.Figure at 0x9c7b0f0>"
      ]
     },
     "metadata": {},
     "output_type": "display_data"
    }
   ],
   "source": [
    "import numpy as np\n",
    "from matplotlib import pyplot as plt\n",
    "from utils import load_salary\n",
    "\n",
    "# x: salary, y: spending\n",
    "x, y = load_salary()\n",
    "\n",
    "print(\"x_min: %.2f x_max: %.2f\" % (np.min(x), np.max(x)))\n",
    "print(\"y_min: %.2f y_max: %.2f\" % (np.min(y), np.max(y)))\n",
    "\n",
    "plt.plot(x,y,'.')\n",
    "plt.xlabel(\"salary\", fontsize=14)\n",
    "plt.ylabel(\"average spend\", fontsize=14)\n",
    "\n",
    "plt.show()\n"
   ]
  },
  {
   "cell_type": "markdown",
   "metadata": {},
   "source": [
    "**任务**：已知新客户的工资水平是2.3万，预测该客户平均每月的信用卡消费多少"
   ]
  },
  {
   "cell_type": "code",
   "execution_count": 3,
   "metadata": {},
   "outputs": [
    {
     "name": "stdout",
     "output_type": "stream",
     "text": [
      "predicted spending: 1.33427619762\n",
      "training score: 0.836313262415\n"
     ]
    },
    {
     "data": {
      "image/png": "[encoded data removed]",
      "text/plain": [
       "<matplotlib.figure.Figure at 0xb13f780>"
      ]
     },
     "metadata": {},
     "output_type": "display_data"
    }
   ],
   "source": [
    "from matplotlib import pyplot as plt\n",
    "from sklearn.linear_model import LinearRegression\n",
    "estimator = LinearRegression()\n",
    "\n",
    "estimator.fit(x, y)\n",
    "pred = estimator.predict([[2.3]])\n",
    "print(\"predicted spending: %s\" % pred[0] )\n",
    "\n",
    "score = estimator.score(x,y)\n",
    "print(\"training score: %s\" % score)\n",
    "\n",
    "x1=np.linspace(0.3,5,20).reshape((-1, 1))\n",
    "y1=estimator.predict(x1)\n",
    "plt.plot(x,y,'.')\n",
    "plt.plot(x1, y1, 'r-')\n",
    "plt.show()\n"
   ]
  },
  {
   "cell_type": "markdown",
   "metadata": {},
   "source": [
    "### 几种类型\n",
    "\n",
    "根据“数据”和“任务”之间的相互关系，“机器学习”问题大致可分为如下三种类型：\n",
    "\n",
    "- **supervised learning (监督式学习)**: labeled data (match the \"tasks\")\n",
    "    - classification (分类)\n",
    "        - binary classification\n",
    "    - regression (回归)\n",
    "    - *conditional generative models: such as translation, cGAN etc.\n",
    "    \n",
    "- **semi-supervised learning (半监督式学习)**: labeled data (but without enough information for the tasks)\n",
    "    - reinforcement learning (增强学习)， delayed reward,\n",
    "        - Q-learning:  only know dead or live status, learn move strategy\n",
    "    - transfer learning (迁移学习)\n",
    "    - adversarial learning (对抗学习): such as GAN etc.\n",
    "        \n",
    "- **unsupervised learning (无监督式学习)**: unlabeled data\n",
    "    - clustering (聚类)\n",
    "    - transformation\n",
    "        - 数据的 standardization 可视为一种 unsupervised learning\n",
    "    - dimensionality reduction (降维) and data compression\n",
    "        - PCA\n",
    "        - autoencoder etc.\n",
    "    - generative models, 如：GAN， "
   ]
  },
  {
   "cell_type": "markdown",
   "metadata": {},
   "source": [
    "## 2. general procedures （操作步骤）"
   ]
  },
  {
   "cell_type": "markdown",
   "metadata": {},
   "source": [
    "![train_test](images/train.jpg)"
   ]
  },
  {
   "cell_type": "markdown",
   "metadata": {},
   "source": [
    "### 2.1 数据"
   ]
  },
  {
   "cell_type": "markdown",
   "metadata": {},
   "source": [
    "**训练集**和**测试集**\n",
    "\n",
    "![train_1](images/train_1.jpg)\n",
    "- 训练集（training set）：用于调节“参数”\n",
    "    - 验证集（validation set）：用于确保选取“超参数”的普适性\n",
    "- 测试集（test set）： a simulation of \"future data\", 用于确保“泛化”\n",
    "\n",
    "\n",
    "![train_test_split_matrix](images/train_test_split_matrix.jpg)"
   ]
  },
  {
   "cell_type": "code",
   "execution_count": 4,
   "metadata": {},
   "outputs": [
    {
     "name": "stdout",
     "output_type": "stream",
     "text": [
      "(80L, 1L)\n",
      "(20L,)\n"
     ]
    },
    {
     "name": "stderr",
     "output_type": "stream",
     "text": [
      "C:\\Users\\Lenovo\\Anaconda2\\lib\\site-packages\\sklearn\\model_selection\\_split.py:2026: FutureWarning: From version 0.21, test_size will always complement train_size unless both are specified.\n",
      "  FutureWarning)\n"
     ]
    }
   ],
   "source": [
    "from utils import load_salary\n",
    "from sklearn.model_selection import train_test_split\n",
    "\n",
    "x, y = load_salary()\n",
    "\n",
    "x_train, x_test, y_train, y_test = train_test_split(x, y, train_size=0.8, random_state=1)\n",
    "\n",
    "print(x_train.shape)\n",
    "print(y_test.shape)"
   ]
  },
  {
   "cell_type": "code",
   "execution_count": 5,
   "metadata": {},
   "outputs": [
    {
     "name": "stdout",
     "output_type": "stream",
     "text": [
      "blob seed: 125\n",
      "[50 50]\n",
      "[37 43]\n",
      "[40 40]\n"
     ]
    }
   ],
   "source": [
    "import numpy as np\n",
    "from sklearn.model_selection import train_test_split\n",
    "from utils import load_blobs, plot_blobs\n",
    "\n",
    "x, y = load_blobs()\n",
    "\n",
    "print(np.bincount(y))\n",
    "\n",
    "x_train, x_test, y_train, y_test = train_test_split(x, y, train_size=0.8)\n",
    "print(np.bincount(y_train))\n",
    "\n",
    "# stratify 表示按哪个变量成比例划分\n",
    "x_train, x_test, y_train, y_test = train_test_split(x, y, train_size=0.8, stratify=y)\n",
    "print(np.bincount(y_train))\n",
    "\n",
    "plot_blobs(x, y)"
   ]
  },
  {
   "cell_type": "markdown",
   "metadata": {},
   "source": [
    "> tips:\n",
    "> - training set 通常选取为总数据的80%左右\n",
    "> - 对于小样本数据，可以通过cross validation的方式减少validation导致的数据消耗\n",
    "> - 对于小样本数据，training set 内各类别成分的比例，最好同总数据的成分比例一致 （stratify split）"
   ]
  },
  {
   "cell_type": "markdown",
   "metadata": {},
   "source": [
    "[**特征工程**](./feature_engineering.ipynb)"
   ]
  },
  {
   "cell_type": "markdown",
   "metadata": {},
   "source": [
    "### 2.2 超参数的选取\n",
    "\n",
    "![train_2](images/train_2.jpg)\n",
    "\n",
    "** “参数”与“超参数”**（hyperparameter）\n",
    "\n",
    "“超参数”: 学习过程中选定的固定变量，fixed, 通常描述模型的某种特定“结构”约束\n",
    "\n",
    "“参数”：学习过程中“自动”调节的模型变量, trainable, 通常描述某种特定“结构”的具体参数"
   ]
  },
  {
   "cell_type": "markdown",
   "metadata": {},
   "source": [
    "** cross validation **\n",
    "\n",
    "![cross_validation](images/cross_validation.jpg)"
   ]
  },
  {
   "cell_type": "code",
   "execution_count": 5,
   "metadata": {
    "scrolled": true
   },
   "outputs": [
    {
     "data": {
      "image/png": "[encoded data removed]",
      "text/plain": [
       "<matplotlib.figure.Figure at 0xd865f98>"
      ]
     },
     "metadata": {},
     "output_type": "display_data"
    }
   ],
   "source": [
    "%matplotlib inline\n",
    "from utils import load_salary\n",
    "X, y = load_salary()\n",
    "plt.plot(X, y, 'o')\n",
    "plt.show()"
   ]
  },
  {
   "cell_type": "code",
   "execution_count": 6,
   "metadata": {},
   "outputs": [
    {
     "name": "stdout",
     "output_type": "stream",
     "text": [
      "degree: 1, score: 0.801617\n",
      "degree: 2, score: 0.903789\n",
      "degree: 10, score: 0.879646\n",
      "degree: 30, score: 0.671668\n"
     ]
    }
   ],
   "source": [
    "from sklearn.linear_model import LinearRegression\n",
    "from sklearn.preprocessing import PolynomialFeatures\n",
    "from sklearn.model_selection import cross_val_score\n",
    "\n",
    "\n",
    "def print_cv_score(degree=1):\n",
    "    estimator = LinearRegression()\n",
    "    X_extend = PolynomialFeatures(degree=degree).fit_transform(X)\n",
    "    scores = cross_val_score(estimator, X_extend, y, cv=5)\n",
    "    # print(scores)\n",
    "    print(\"degree: %d, score: %.6f\" % (degree, np.mean(scores)))\n",
    "    \n",
    "#degree=2 sweet spot  \n",
    "#degree=1 under-fitting\n",
    "#degree>2 over-fitting\n",
    "for d in [1,2,10,30]:\n",
    "    print_cv_score(d) # underfitting\n"
   ]
  },
  {
   "cell_type": "markdown",
   "metadata": {},
   "source": [
    "**under-fitting vs over-fitting** (**bias-variance tradeoff**)\n",
    "\n",
    "![tradeoff.jpg](images/tradeoff.jpg)"
   ]
  },
  {
   "cell_type": "markdown",
   "metadata": {},
   "source": [
    "** 两个不同视角来理解underfitting 和 overfitting **\n",
    "\n",
    "- 从固定training dataset(因而model固定)，而选取不同test dataset 来看。underfitting 表示模型的推广性较好（test error和training error差别不大），但模型本身的拟合效果较差（即training error较大）；overfitting 表示模型本身的拟合能力强（training error较小），但generalization 较差（由于过分拟合training dataset的噪音，而导致 test error显著高于training error）"
   ]
  },
  {
   "cell_type": "code",
   "execution_count": 73,
   "metadata": {},
   "outputs": [
    {
     "name": "stdout",
     "output_type": "stream",
     "text": [
      "degree: 2, score: 0.965121\n",
      "degree: 30, score: 0.718878\n"
     ]
    },
    {
     "data": {
      "image/png": "[encoded data removed]",
      "text/plain": [
       "<matplotlib.figure.Figure at 0xf1bb550>"
      ]
     },
     "metadata": {},
     "output_type": "display_data"
    }
   ],
   "source": [
    "import numpy as np\n",
    "from sklearn.linear_model import LinearRegression\n",
    "from sklearn.preprocessing import PolynomialFeatures\n",
    "from sklearn.model_selection import train_test_split\n",
    "\n",
    "\n",
    "X_train, X_test, y_train, y_test = train_test_split(X, y, train_size=0.8, random_state=1)\n",
    "\n",
    "ax = plt.gca()\n",
    "ax.plot(X_train, y_train, 'r.', label=\"train data\")\n",
    "ax.plot(X_test, y_test, 'bx', label=\"test data\")\n",
    "\n",
    "for i, degree in enumerate([2, 30]):\n",
    "    estimator = LinearRegression()\n",
    "    transformer = PolynomialFeatures(degree=degree)\n",
    "\n",
    "    X_train_extend = transformer.fit_transform(X_train)\n",
    "    X_test_extend = transformer.fit_transform(X_test)\n",
    "\n",
    "    estimator.fit(X_train_extend, y_train)\n",
    "    \n",
    "    scores = estimator.score(X_test_extend, y_test)\n",
    "    print(\"degree: %d, score: %.6f\" % (degree, np.mean(scores)))\n",
    "    \n",
    "    xx = np.linspace(0, 5, 100).reshape((-1, 1))\n",
    "    xx_extend = transformer.fit_transform(xx)\n",
    "    yy = estimator.predict(xx_extend)\n",
    "\n",
    "    ax.plot(xx, yy, ['k-', 'g--'][i], label=\"degree=%d\" % degree)\n",
    "    ax.set_ylim([0,3])\n",
    "    \n",
    "    plt.legend()\n",
    "plt.show()\n",
    "\n"
   ]
  },
  {
   "cell_type": "markdown",
   "metadata": {},
   "source": [
    "- 从不选取test dataset，但也不固定training dataset（因而model也不固定）的角度看。underfitting 表示model较稳定（不随training dataset的变化而显著变化），但模型本身的拟合能力不够用（training error较大）。overfitting 表示模型本身的拟合能力强（training error较小），但模型本身不稳定（随着training dataset的变化而显著变化）"
   ]
  },
  {
   "cell_type": "code",
   "execution_count": 84,
   "metadata": {},
   "outputs": [
    {
     "name": "stdout",
     "output_type": "stream",
     "text": [
      "[ -4.95917879e-10  -3.27338162e-10   3.28672189e-12   8.54613692e-13\n",
      "   2.42485103e-12   6.52604573e-12   1.71272591e-11   4.39708162e-11\n",
      "   1.10430634e-10   2.70837930e-10   6.46713785e-10   1.49715110e-09\n",
      "   3.34160139e-09   7.13869275e-09   1.44563328e-08   2.73850395e-08\n",
      "   4.76093239e-08   7.37478475e-08   9.66758222e-08   9.59732890e-08\n",
      "   4.80528149e-08  -4.01657019e-08  -8.91077798e-08  -1.32528703e-09\n",
      "   9.86761122e-08  -7.77157092e-08   2.92864653e-08  -6.37209231e-09\n",
      "   8.21600458e-10  -5.86271206e-11   1.79184862e-12]\n",
      "[ -1.11023147e-09   4.61084041e-07   5.71042584e-10   1.06038830e-10\n",
      "   2.58006659e-10   6.20659715e-10   1.45723426e-09   3.34238208e-09\n",
      "   7.47707599e-09   1.62608583e-08   3.42183118e-08   6.92402094e-08\n",
      "   1.33611334e-07   2.43144762e-07   4.10815136e-07   6.29707463e-07\n",
      "   8.43307341e-07   9.18284995e-07   6.72433158e-07   3.97428165e-08\n",
      "  -6.41918300e-07  -6.09675159e-07   3.64667485e-07   6.58879103e-07\n",
      "  -7.84824070e-07   3.87638638e-07  -1.10328175e-07   1.94833457e-08\n",
      "  -2.12033124e-09   1.30929099e-10  -3.52367622e-12]\n",
      "[  2.12914990e-07   4.06395416e-07  -1.35037495e-09   2.26828567e-10\n",
      "   5.68446271e-10   1.33302370e-09   3.05080962e-09   6.81938718e-09\n",
      "   1.48622018e-08   3.14758075e-08   6.44694141e-08   1.26895184e-07\n",
      "   2.38000911e-07   4.20518259e-07   6.88760118e-07   1.02080273e-06\n",
      "   1.31536507e-06   1.36218688e-06   9.07214801e-07  -8.25725310e-08\n",
      "  -1.02702252e-06  -8.25713394e-07   6.49382670e-07   9.13886987e-07\n",
      "  -1.20668182e-06   6.26377725e-07  -1.85376507e-07   3.39020722e-08\n",
      "  -3.81352594e-09   2.43161373e-10  -6.75427495e-12]\n"
     ]
    },
    {
     "data": {
      "image/png": "[encoded data removed]",
      "text/plain": [
       "<matplotlib.figure.Figure at 0xcfb19e8>"
      ]
     },
     "metadata": {},
     "output_type": "display_data"
    }
   ],
   "source": [
    "import numpy as np\n",
    "from sklearn.linear_model import LinearRegression\n",
    "from sklearn.preprocessing import PolynomialFeatures\n",
    "from sklearn.model_selection import train_test_split\n",
    "\n",
    "degree = 30\n",
    "seeds = [2, 10, 20] \n",
    "estimator = LinearRegression()\n",
    "transformer = PolynomialFeatures(degree=degree)\n",
    "\n",
    "fig, axes =plt.subplots(1, 3, figsize=(12, 4))\n",
    "for i, seed in enumerate(seeds):\n",
    "    X_train, X_test, y_train, y_test = train_test_split(X, y, train_size=0.8, random_state=seed)\n",
    "\n",
    "    axes[i].plot(X_train, y_train, 'r.', label=\"train data\")\n",
    "    axes[i].plot(X_test, y_test, 'bx', label=\"test data\")\n",
    "\n",
    "    X_train_extend = transformer.fit_transform(X_train)\n",
    "    X_test_extend = transformer.fit_transform(X_test)\n",
    "\n",
    "    estimator.fit(X_train_extend, y_train)\n",
    "\n",
    "    print(estimator.coef_)\n",
    "     \n",
    "    xx = np.linspace(0, 5, 100).reshape((-1, 1))\n",
    "    xx_extend = transformer.fit_transform(xx)\n",
    "    yy = estimator.predict(xx_extend)\n",
    "\n",
    "    axes[i].plot(xx, yy, 'k-')\n",
    "    axes[i].set_ylim([0,3]) \n",
    "    \n",
    "plt.show()\n",
    "\n"
   ]
  },
  {
   "cell_type": "markdown",
   "metadata": {},
   "source": [
    "**减少 underfitting** 可以通过选择更合理的feature、更高阶的模型等方式来解决。\n",
    "\n",
    "**抑制 overfitting** 则涉及一些特别的技巧。\n",
    "\n",
    "\n",
    "视角1对应的方法 ：着眼于降低模型generalization error 的角度\n",
    "\n",
    "- regularizaion（正则化）：penalize against complexity (Occam's razor 奥卡姆剃刀)\n",
    "\n",
    ">Ridge Regularization (L2 norm):\n",
    ">\n",
    ">$$ R = \\lambda\\sum|w_i|^2 $$\n",
    ">\n",
    ">LASSO Regularization (L1 norm, Least Absolute Shrinkage and Selection Operator):\n",
    ">\n",
    ">$$ R = \\lambda\\sum|w_i| $$\n",
    ">\n",
    ">The LASSO produces sparse parameters; most of the coefficients will become zero.\n",
    "\n",
    "（**正则化，可视为某种先验概率，详见下节**）\n",
    "\n",
    "视角2对应的方法 ：着眼于增加模型的稳定性，或减少预测结果对模型细节的依赖性\n",
    "\n",
    "\n",
    "- ensemble methods: random forest etc.\n",
    "- dropout, batch normalization, data enhancement"
   ]
  },
  {
   "cell_type": "markdown",
   "metadata": {},
   "source": [
    "** grid search **\n",
    "\n",
    "brute force search for hyperparameters （暴力搜索最佳的超参数组合）"
   ]
  },
  {
   "cell_type": "code",
   "execution_count": 7,
   "metadata": {},
   "outputs": [
    {
     "name": "stdout",
     "output_type": "stream",
     "text": [
      "blob seed: 125\n"
     ]
    },
    {
     "data": {
      "image/png": "[encoded data removed]",
      "text/plain": [
       "<matplotlib.figure.Figure at 0xd6e4a58>"
      ]
     },
     "metadata": {},
     "output_type": "display_data"
    }
   ],
   "source": [
    "from utils import load_blobs, plot_blobs\n",
    "from matplotlib import pyplot as plt\n",
    "x, y = load_blobs()\n",
    "plot_blobs(x, y)\n",
    "plt.show()"
   ]
  },
  {
   "cell_type": "code",
   "execution_count": 9,
   "metadata": {},
   "outputs": [
    {
     "name": "stdout",
     "output_type": "stream",
     "text": [
      "penalty: l2, C: 0.020000, average score: 0.930000\n",
      "penalty: l2, C: 1.000000, average score: 0.940000\n",
      "penalty: l2, C: 50.000000, average score: 0.920000\n",
      "penalty: l1, C: 0.020000, average score: 0.730000\n",
      "penalty: l1, C: 1.000000, average score: 0.930000\n",
      "penalty: l1, C: 50.000000, average score: 0.920000\n"
     ]
    }
   ],
   "source": [
    "import numpy as np\n",
    "from sklearn.linear_model import LogisticRegression\n",
    "from sklearn.model_selection import cross_val_score\n",
    "\n",
    "clf = LogisticRegression() # logisitic classifier\n",
    "\n",
    "for penalty in [\"l2\", \"l1\"]:\n",
    "    for C in [0.02, 1, 50]:\n",
    "        scores = cross_val_score(LogisticRegression(penalty=penalty, C=C), x, y, cv=5)\n",
    "        print(\"penalty: %s, C: %f, average score: %f\" % (penalty, C, np.mean(scores)))       "
   ]
  },
  {
   "cell_type": "code",
   "execution_count": 10,
   "metadata": {},
   "outputs": [
    {
     "name": "stdout",
     "output_type": "stream",
     "text": [
      "Fitting 5 folds for each of 6 candidates, totalling 30 fits\n",
      "[CV] penalty=l2, C=0.02 ..............................................\n",
      "[CV] ................... penalty=l2, C=0.02, score=0.95, total=   0.0s\n",
      "[CV] penalty=l2, C=0.02 ..............................................\n",
      "[CV] ................... penalty=l2, C=0.02, score=0.95, total=   0.0s\n",
      "[CV] penalty=l2, C=0.02 ..............................................\n",
      "[CV] .................... penalty=l2, C=0.02, score=0.8, total=   0.0s\n",
      "[CV] penalty=l2, C=0.02 ..............................................\n",
      "[CV] ................... penalty=l2, C=0.02, score=0.95, total=   0.0s\n",
      "[CV] penalty=l2, C=0.02 ..............................................\n",
      "[CV] .................... penalty=l2, C=0.02, score=1.0, total=   0.0s\n",
      "[CV] penalty=l1, C=0.02 ..............................................\n",
      "[CV] ................... penalty=l1, C=0.02, score=0.75, total=   0.0s\n",
      "[CV] penalty=l1, C=0.02 ..............................................\n",
      "[CV] .................... penalty=l1, C=0.02, score=0.8, total=   0.0s\n",
      "[CV] penalty=l1, C=0.02 ..............................................\n",
      "[CV] .................... penalty=l1, C=0.02, score=0.7, total=   0.0s\n",
      "[CV] penalty=l1, C=0.02 ..............................................\n",
      "[CV] .................... penalty=l1, C=0.02, score=0.7, total=   0.0s\n",
      "[CV] penalty=l1, C=0.02 ..............................................\n",
      "[CV] .................... penalty=l1, C=0.02, score=0.7, total=   0.0s\n",
      "[CV] penalty=l2, C=1 .................................................\n",
      "[CV] ...................... penalty=l2, C=1, score=0.95, total=   0.0s\n",
      "[CV] penalty=l2, C=1 .................................................\n",
      "[CV] ...................... penalty=l2, C=1, score=0.95, total=   0.0s\n",
      "[CV] penalty=l2, C=1 .................................................\n",
      "[CV] ...................... penalty=l2, C=1, score=0.85, total=   0.0s\n",
      "[CV] penalty=l2, C=1 .................................................\n",
      "[CV] ...................... penalty=l2, C=1, score=0.95, total=   0.0s\n",
      "[CV] penalty=l2, C=1 .................................................\n",
      "[CV] ....................... penalty=l2, C=1, score=1.0, total=   0.0s\n",
      "[CV] penalty=l1, C=1 .................................................\n",
      "[CV] ...................... penalty=l1, C=1, score=0.95, total=   0.0s\n",
      "[CV] penalty=l1, C=1 .................................................\n",
      "[CV] ...................... penalty=l1, C=1, score=0.95, total=   0.0s\n",
      "[CV] penalty=l1, C=1 .................................................\n",
      "[CV] ....................... penalty=l1, C=1, score=0.8, total=   0.0s\n",
      "[CV] penalty=l1, C=1 .................................................\n",
      "[CV] ...................... penalty=l1, C=1, score=0.95, total=   0.0s\n",
      "[CV] penalty=l1, C=1 .................................................\n",
      "[CV] ....................... penalty=l1, C=1, score=1.0, total=   0.0s\n",
      "[CV] penalty=l2, C=50 ................................................\n",
      "[CV] ...................... penalty=l2, C=50, score=0.9, total=   0.0s\n",
      "[CV] penalty=l2, C=50 ................................................\n",
      "[CV] ...................... penalty=l2, C=50, score=0.9, total=   0.0s\n",
      "[CV] penalty=l2, C=50 ................................................\n",
      "[CV] ..................... penalty=l2, C=50, score=0.85, total=   0.0s\n",
      "[CV] penalty=l2, C=50 ................................................\n",
      "[CV] ..................... penalty=l2, C=50, score=0.95, total=   0.0s\n",
      "[CV] penalty=l2, C=50 ................................................\n",
      "[CV] ...................... penalty=l2, C=50, score=1.0, total=   0.0s\n",
      "[CV] penalty=l1, C=50 ................................................\n",
      "[CV] ...................... penalty=l1, C=50, score=0.9, total=   0.0s\n",
      "[CV] penalty=l1, C=50 ................................................\n",
      "[CV] ...................... penalty=l1, C=50, score=0.9, total=   0.0s\n",
      "[CV] penalty=l1, C=50 ................................................\n",
      "[CV] ..................... penalty=l1, C=50, score=0.85, total=   0.0s\n",
      "[CV] penalty=l1, C=50 ................................................\n",
      "[CV] ..................... penalty=l1, C=50, score=0.95, total=   0.0s\n",
      "[CV] penalty=l1, C=50 ................................................\n",
      "[CV] ...................... penalty=l1, C=50, score=1.0, total=   0.0s\n",
      "0.94\n",
      "{'penalty': 'l2', 'C': 1}\n"
     ]
    },
    {
     "name": "stderr",
     "output_type": "stream",
     "text": [
      "[Parallel(n_jobs=1)]: Done   1 out of   1 | elapsed:    0.0s remaining:    0.0s\n",
      "[Parallel(n_jobs=1)]: Done   2 out of   2 | elapsed:    0.0s remaining:    0.0s\n",
      "[Parallel(n_jobs=1)]: Done  30 out of  30 | elapsed:    0.0s finished\n"
     ]
    }
   ],
   "source": [
    "# make use of GridSearchCV\n",
    "from sklearn.model_selection import GridSearchCV\n",
    "param_grid = {'C': [0.02, 1, 50], 'penalty': [\"l2\", \"l1\"]}\n",
    "\n",
    "grid = GridSearchCV(LogisticRegression(), param_grid=param_grid, cv=5, verbose=3)\n",
    "\n",
    "grid.fit(x, y) # an interface similar to estimator\n",
    "print(grid.best_score_)\n",
    "print(grid.best_params_)"
   ]
  },
  {
   "cell_type": "code",
   "execution_count": 11,
   "metadata": {},
   "outputs": [
    {
     "data": {
      "image/png": "[encoded data removed]",
      "text/plain": [
       "<matplotlib.figure.Figure at 0xd752080>"
      ]
     },
     "metadata": {},
     "output_type": "display_data"
    },
    {
     "data": {
      "text/plain": [
       "0.93999999999999995"
      ]
     },
     "execution_count": 11,
     "metadata": {},
     "output_type": "execute_result"
    }
   ],
   "source": [
    "import numpy as np\n",
    "from matplotlib import pyplot as plt\n",
    "from sklearn.linear_model import LogisticRegression\n",
    "from utils import plot_blobs, plot_2d_boundary\n",
    "\n",
    "clf = LogisticRegression(penalty=\"l2\", C=1) # logisitic classifier\n",
    "clf.fit(x, y)\n",
    "\n",
    "xmin, xmax = np.min(x[:, 0])-0.5, np.max(x[:, 0])+0.5\n",
    "ymin, ymax = np.min(x[:, 1])-0.5, np.max(x[:, 1])+0.5\n",
    "plot_blobs(x, y)\n",
    "plot_2d_boundary(clf, xmin, xmax, ymin, ymax)\n",
    "plt.show()\n",
    "\n",
    "clf.score(x,y) #accuracy\n",
    "# clf.predict(x) # classification result \n",
    "# clf.predict_proba(x) # classification probs\n",
    "# clf.decision_function(x) # signed distance"
   ]
  },
  {
   "cell_type": "markdown",
   "metadata": {},
   "source": [
    "### 2.3 模型的建立\n",
    "\n",
    "\n",
    "![train_3](images/train_3.jpg)\n",
    "\n",
    "**两种建模方式**\n",
    "\n",
    "“面向过程”式的模型： 如决策树， greedy search at local step，模型演化的每一步规则明确，而整体系统演化的 target 不清晰\n",
    "\n",
    "“面向对象”式的模型： 如svm，神经网络，optimize cost function globally, 模型演化的每一步可能存在随机性，而整体系统演化的 target 非常明确"
   ]
  },
  {
   "cell_type": "markdown",
   "metadata": {},
   "source": [
    "**[概率模型的数学基础](Bayes.ipynb)**\n",
    "\n",
    "几乎所有的深度学习模型，都是概率模型"
   ]
  },
  {
   "cell_type": "markdown",
   "metadata": {},
   "source": [
    "**model in scikit-learn: estimator interface**  \n",
    "\n",
    "- estimator.fit, estimator.transform, estimator.predict, estimator.score\n",
    "\n",
    "- 复合estimator： pipline(串联), GridSearchCV（并联）"
   ]
  },
  {
   "cell_type": "code",
   "execution_count": 17,
   "metadata": {
    "collapsed": true
   },
   "outputs": [],
   "source": [
    "# prepare data\n",
    "\n",
    "import os\n",
    "\n",
    "with open(os.path.join(\"../data\", \"SMSSpamCollection\")) as f:\n",
    "    lines = [line.strip().split(\"\\t\") for line in f.readlines()]\n",
    "    \n",
    "text = [p[1] for p in lines]\n",
    "y = [p[0] == \"ham\" for p in lines]\n",
    "\n",
    "from sklearn.model_selection import train_test_split\n",
    "text_train, text_test, y_train, y_test = train_test_split(text, y)"
   ]
  },
  {
   "cell_type": "code",
   "execution_count": 22,
   "metadata": {},
   "outputs": [
    {
     "data": {
      "text/plain": [
       "0.97130559540889527"
      ]
     },
     "execution_count": 22,
     "metadata": {},
     "output_type": "execute_result"
    }
   ],
   "source": [
    "# regression without pipline\n",
    "\n",
    "from sklearn.feature_extraction.text import TfidfVectorizer\n",
    "vectorizer = TfidfVectorizer()\n",
    "vectorizer.fit(text_train)\n",
    "\n",
    "X_train = vectorizer.transform(text_train)\n",
    "X_test = vectorizer.transform(text_test)\n",
    "\n",
    "from sklearn.linear_model import LogisticRegression\n",
    "regressor = LogisticRegression()\n",
    "regressor.fit(X_train, y_train)\n",
    "regressor.score(X_test, y_test)"
   ]
  },
  {
   "cell_type": "code",
   "execution_count": 23,
   "metadata": {},
   "outputs": [
    {
     "data": {
      "text/plain": [
       "0.97130559540889527"
      ]
     },
     "execution_count": 23,
     "metadata": {},
     "output_type": "execute_result"
    }
   ],
   "source": [
    "# regression with pipline\n",
    "\n",
    "from sklearn.pipeline import make_pipeline\n",
    "pipeline = make_pipeline(TfidfVectorizer(), LogisticRegression())\n",
    "pipeline.fit(text_train, y_train)\n",
    "pipeline.score(text_test, y_test)"
   ]
  },
  {
   "cell_type": "markdown",
   "metadata": {},
   "source": [
    "### 2.4 度量\n",
    "\n",
    "包括 **训练模型的度量** 和 **评测模型的度量** \n",
    "\n",
    "![train_4](images/train_4.jpg)\n",
    "\n",
    "**训练模型的度量** ：应用于 training 的SGD（stochastic Gradient Descent）\n",
    "\n",
    "- 最大化 marginal distance\n",
    "\n",
    "    代表模型 svm:  $\\max\\limits_{\\mathbf{w},b} d_w \\rightarrow \\min\\limits_{\\mathbf{w},b} \\|\\mathbf{w}\\|^2$\n",
    "\n",
    "![svm_1](images/svm_1.jpg)\n",
    "\n",
    "- 最小化 MSE（mean square error）\n",
    "\n",
    "    代表模型线性回归、逻辑回归: $\\min\\limits_{\\mathbf{w},b}\\sum\\limits_i\\|y_i - f(x_i)\\|^2$\n",
    "\n",
    "- Kullback–Leibler divergence 和 cross entroy\n",
    "    \n",
    "    神经网络等概率模型\n",
    "   \n",
    "    $$H(P,Q)\\equiv -\\sum\\limits_i p_i\\log q_i$$\n",
    "    $$D_{KL}(P‖Q) \\equiv \\sum\\limits_i p_i\\left(\\log p_i - \\log q_i\\right)$$\n",
    "    \n",
    "    $D_{KL}(P‖Q)$, is the amount of information lost when Q is used to approximate P.    \n",
    "    \n",
    "    性质：\n",
    "\n",
    "    1. 正定性：$D_{KL}(P‖Q)\\ge 0 $\n",
    "\n",
    "    2. 可加性：假设$p(x, y)\\equiv p_1(x)p_2(y),\\; q(x,y)=q_1(x)q_2(y)$, 则 $D_{KL}(P‖Q)=D_{KL}(P_1‖Q_1) + D_{KL}(P_2‖Q_2)$\n",
    "\n",
    "    $H(P, Q) = H(P) + D_{KL}(P‖Q)$，因此在一个最优化问题中，若所有参数集中在Q中，则minimize $D_{KL}(P‖Q)$ 等价于 minimize $H(P,Q)$ \n",
    "\n",
    "- other divergence, 如 Wasserstein divergence \n",
    "\n",
    "**评测模型的度量** ： 一般应用于test dataset\n",
    "\n",
    "- $R^2$-score (regression)\n",
    "\n",
    "$$ r^2\\equiv 1- {\\sum (y_i - f(x_i))^2\\over \\sum (y_i - \\bar{y})^2} $$\n",
    "\n",
    "- Accuracy (classification)\n",
    "\n",
    "- Confusion Matirx （classification）\n",
    "<div>\n",
    "<table style=\"border:1px solid black\">\n",
    "<tr> <td style=\"border:1px solid black\">$n=175$</td><td style=\"border:1px solid black\">predicted label0</td> <td style=\"border:1px solid black\">predicted label1</td> <td style=\"border:1px solid black\">predicted label2</td> </tr>\n",
    "<tr><td style=\"border:1px solid black\">actual label0</td><td style=\"border:1px solid black\">50</td> <td style=\"border:1px solid black\">0</td> <td style=\"border:1px solid black\">5</td> </tr>\n",
    "<tr><td style=\"border:1px solid black\">actual label1</td><td style=\"border:1px solid black\">0</td> <td style=\"border:1px solid black\">54</td> <td style=\"border:1px solid black\">3</td> </tr>\n",
    "<tr><td style=\"border:1px solid black\">actual label2</td><td style=\"border:1px solid black\">2</td> <td style=\"border:1px solid black\">1</td> <td style=\"border:1px solid black\">60</td> </tr>\n",
    "</table>\n",
    "</div>\n",
    "\n"
   ]
  },
  {
   "cell_type": "code",
   "execution_count": 85,
   "metadata": {
    "scrolled": false
   },
   "outputs": [
    {
     "data": {
      "image/png": "[encoded data removed]",
      "text/plain": [
       "<matplotlib.figure.Figure at 0x10fffa58>"
      ]
     },
     "metadata": {},
     "output_type": "display_data"
    }
   ],
   "source": [
    "y_test = [0]*55 + [1]*57 + [2]*63\n",
    "y_test_pred = [0]*50 + [2]*5 + [1]*54 + [2]*3 + [0]*2 + [1]*1 + [2]*60\n",
    "from sklearn.metrics import confusion_matrix\n",
    "\n",
    "plt.matshow(confusion_matrix(y_test, y_test_pred), cmap=\"Blues\")\n",
    "plt.colorbar(shrink=0.8)\n",
    "plt.xticks(range(3))\n",
    "plt.yticks(range(3))\n",
    "plt.xlabel(\"Predicted label\")\n",
    "plt.ylabel(\"True label\");"
   ]
  },
  {
   "cell_type": "markdown",
   "metadata": {},
   "source": [
    "-  Precsion, Recall, F1-score (classification)\n",
    "\n",
    "$$\\begin{eqnarray} \n",
    "acc&=&{ TP + TN \\over all}\\quad\\text{(对角线上的样本数占样本总数的比例)}\\\\\n",
    "pre &=& {TP\\over TP + FP} \\quad\\text{(某列的对角线方块占该列样本数的比例)}\\\\\n",
    "rec &=& {TP\\over TP + FN}\\quad\\text{(某行的对角线方块占该行样本数的比例)}\\\\\n",
    "{2\\over F} &=& {1\\over pre} + {1\\over rec}\n",
    "\\end{eqnarray} \n",
    "$$"
   ]
  },
  {
   "cell_type": "code",
   "execution_count": 34,
   "metadata": {},
   "outputs": [
    {
     "name": "stdout",
     "output_type": "stream",
     "text": [
      "             precision    recall  f1-score   support\n",
      "\n",
      "          0       0.96      0.91      0.93        55\n",
      "          1       0.98      0.95      0.96        57\n",
      "          2       0.88      0.95      0.92        63\n",
      "\n",
      "avg / total       0.94      0.94      0.94       175\n",
      "\n"
     ]
    }
   ],
   "source": [
    "from sklearn.metrics import classification_report\n",
    "print(classification_report(y_test, y_test_pred))"
   ]
  },
  {
   "cell_type": "markdown",
   "metadata": {},
   "source": [
    "- Fall-out，ROC_AUC score (binary classification) \n",
    "\n",
    "应用于binary classification，如肿瘤positive/negative的诊断，或文章relevant/irrelevant的搜索\n",
    "\n",
    "<div>\n",
    "<table style=\"border:1px solid black\">\n",
    "<tr> <td style=\"border:1px solid black\">n=50</td><td style=\"border:1px solid black\">Predicted Positive</td> <td style=\"border:1px solid black\">Predicted Negative</td></tr>\n",
    "<tr><td style=\"border:1px solid black\">Actual Positive</td><td style=\"border:1px solid black\">TP=25</td> <td style=\"border:1px solid black\">FN=2</td></tr>\n",
    "<tr><td style=\"border:1px solid black\">Actual Negative</td><td style=\"border:1px solid black\">FP=1</td> <td style=\"border:1px solid black\">TN=22</td></tr>\n",
    "</table>\n",
    "</div>\n",
    "\n",
    "$$\\mathop{\\rm fallOut}={FP\\over FP + TN}$$\n",
    "\n",
    "在文本搜索问题中，即\n",
    "\n",
    "$$\\mathop{\\rm fallOut}={\\text{non-relevant documents}\\cap\\text{retrived documents}\\over \\text{non-relevant documents}}$$\n",
    "\n",
    "ROC (Receiver operating characteristic ) curve: a graphical plot that illustrates the diagnostic ability of a binary classifier system as its discrimination threshold is varied. (Fallout vs Recall)\n",
    "\n",
    "$$\\text{ROC_AUC score} = \\text{area under ROC curve}$$\n",
    "\n",
    "```\n",
    "sklearn.metrics.roc_auc_score\n",
    "```\n",
    "\n",
    "\n",
    "\n",
    "**其他常见度量**\n",
    "\n",
    "- confidence interval（置信区间）：An N% confidence interval for some parameter p is an interval that is expected with probability N% to contain p.\n",
    "\n",
    "- winning rate 等"
   ]
  }
 ],
 "metadata": {
  "kernelspec": {
   "display_name": "Python 2",
   "language": "python",
   "name": "python2"
  },
  "language_info": {
   "codemirror_mode": {
    "name": "ipython",
    "version": 2
   },
   "file_extension": ".py",
   "mimetype": "text/x-python",
   "name": "python",
   "nbconvert_exporter": "python",
   "pygments_lexer": "ipython2",
   "version": "2.7.14"
  }
 },
 "nbformat": 4,
 "nbformat_minor": 2
}
