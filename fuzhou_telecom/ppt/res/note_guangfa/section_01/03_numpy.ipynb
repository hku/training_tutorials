{
 "cells": [
  {
   "cell_type": "markdown",
   "metadata": {},
   "source": [
    "# Tutorial_03: numpy 和他的伙伴们"
   ]
  },
  {
   "cell_type": "markdown",
   "metadata": {},
   "source": [
    "## 1. what is numpy\n",
    "\n",
    "\n",
    "- numpy 提供类似 matlab 的矩阵操作体验 （**matrix** operation on-the-fly）,例如：\n",
    "\n",
    "```\n",
    "x[:,1] #fancy indexing, different form python list \n",
    "np.linspace(0,10,21)\n",
    "np.arange(0,10, 0.5)\n",
    "```\n",
    "> why matrix?\n",
    ">\n",
    ">rows: instances,columns: features;\n",
    "> matrix 并不天然是数据，数据天然是matrix\n",
    "\n",
    "- fast: built around c array with pointers to a continuous data buffer (区别于python list)"
   ]
  },
  {
   "cell_type": "code",
   "execution_count": 17,
   "metadata": {
    "collapsed": true
   },
   "outputs": [],
   "source": [
    "# import  numpy\n",
    "# dir(numpy)"
   ]
  },
  {
   "cell_type": "markdown",
   "metadata": {},
   "source": [
    "## 2. data in numpy: ndarray"
   ]
  },
  {
   "cell_type": "markdown",
   "metadata": {},
   "source": [
    "### 2.1 ndarray属性：dtype, shape"
   ]
  },
  {
   "cell_type": "code",
   "execution_count": 6,
   "metadata": {
    "collapsed": true
   },
   "outputs": [],
   "source": [
    "import numpy as np\n",
    "x=np.array([[1.1,2.2,3.3],[4.4,5.5,6.6]], dtype=np.float64)\n",
    "\n",
    "# type(x)\n",
    "\n",
    "# x.dtype\n",
    "# int8 uint8 .... int64 float16 ... float64 (float128, bool, string)\n",
    "# x.astype"
   ]
  },
  {
   "cell_type": "code",
   "execution_count": 24,
   "metadata": {
    "collapsed": true
   },
   "outputs": [],
   "source": [
    "import numpy as np\n",
    "x=np.array([[1.1,2.2,3.3],[4.4,5.5,6.6]], dtype=np.float64)\n",
    "\n",
    "# x.shape\n",
    "# x.size # 元素数目\n",
    "\n",
    "# x.reshape((3,2))\n",
    "# x.reshape((3,-1))\n",
    "# x.flatten()\n",
    "\n",
    "# np.concatenate([x, x], axis=1)\n"
   ]
  },
  {
   "cell_type": "markdown",
   "metadata": {},
   "source": [
    "### 2.2 怎样初始化：initializers, loaders"
   ]
  },
  {
   "cell_type": "code",
   "execution_count": 41,
   "metadata": {
    "collapsed": true
   },
   "outputs": [],
   "source": [
    "# initializers\n",
    "\n",
    "import numpy as np\n",
    "\n",
    "# 从 list 等其他sequence对象构造\n",
    "# x=np.array([[1.1,2.2,3.3],[4.4,5.5,6.6]], dtype=np.float64)\n",
    "# list(x) # convert x back to list\n",
    "# y = np.array(x)\n",
    "\n",
    "# constant 构造器\n",
    "# x=np.linspace(0,10,21)\n",
    "# x=np.arange(0,10, 0.5)\n",
    "# x=np.zeros((5,5))\n",
    "x=np.ones((5,5))\n",
    "# x=np.eye(5)\n",
    "\n",
    "# random 构造器\n",
    "# x=np.random.randn(3,5)\n",
    "# X = np.random.uniform(low=0., high=1., size=(5,5))\n",
    "# np.random.randint\n",
    "# np.random.shuffle\n",
    "# np.random.normal"
   ]
  },
  {
   "cell_type": "code",
   "execution_count": 1,
   "metadata": {
    "collapsed": true
   },
   "outputs": [],
   "source": [
    "# loaders\n",
    "\n",
    "import numpy as np\n",
    "\n",
    "# 从 txt 文件加载\n",
    "x=np.loadtxt(\"../data/winequality-red.csv\", delimiter=\";\", skiprows=1)\n",
    "np.savetxt(\"../data/test.csv\", x, fmt='%.4f', delimiter=',', newline='\\n')\n",
    "\n",
    "\n",
    "# pickle 序列化/反序列化\n",
    "# import pickle\n",
    "# with open(\"../data/test.pkl\", \"wb\") as f:\n",
    "#     pickle.dump(x, f)\n",
    "\n",
    "# with open(\"../data/test.pkl\", \"rb\") as f:\n",
    "#     x=pickle.load(f)\n",
    "\n",
    "# 序列化/反序列化\n",
    "# x.dump(\"../data/test.npy\")\n",
    "# x = np.load(\"../data/test.npy\")\n",
    "\n",
    "\n",
    "# 从 matlab 文件加载\n",
    "# scipy.io.loadmat \n",
    "# scipy.io.savemat\n",
    "\n",
    "# 从图像文件加载\n",
    "# scipy.misc\n",
    "# PIL\n",
    "\n",
    "# 从音频文件加载\n",
    "# scipy.io.wavfile\n",
    "\n",
    "# print(x)\n",
    "\n",
    "# 其他文件加载 "
   ]
  },
  {
   "cell_type": "markdown",
   "metadata": {},
   "source": [
    "### 2.3 怎样操作"
   ]
  },
  {
   "cell_type": "markdown",
   "metadata": {},
   "source": [
    "- ** indexing and slicing**\n",
    "```\n",
    "x[idx]\n",
    "x[min:max:step]\n",
    "```"
   ]
  },
  {
   "cell_type": "code",
   "execution_count": 16,
   "metadata": {},
   "outputs": [
    {
     "data": {
      "text/plain": [
       "array([ 5.5,  6.6])"
      ]
     },
     "execution_count": 16,
     "metadata": {},
     "output_type": "execute_result"
    }
   ],
   "source": [
    "import numpy as np\n",
    "x=np.array([[1.1,2.2,3.3],[4.4,5.5,6.6],[7.7,8.8,9.9]], dtype=np.float64)\n",
    "# x\n",
    "# x[1]\n",
    "\n",
    "# x[:, 1]\n",
    "\n",
    "# x[1:,:]\n",
    "# x[:,::2]\n",
    "# x[1,-2:]\n",
    "\n",
    "# x=np.array([1.,2.,6.,8.])\n",
    "# (x[1:] + x[:-1])/2.0\n",
    "\n"
   ]
  },
  {
   "cell_type": "markdown",
   "metadata": {},
   "source": [
    "- ** mask (boolean indexing) **"
   ]
  },
  {
   "cell_type": "code",
   "execution_count": 22,
   "metadata": {},
   "outputs": [
    {
     "name": "stdout",
     "output_type": "stream",
     "text": [
      "[[ 0.   0.   3.3]\n",
      " [ 4.4  5.5  6.6]]\n"
     ]
    }
   ],
   "source": [
    "import numpy as np\n",
    "x=np.array([[1.1,2.2,3.3],[4.4,5.5,6.6]], dtype=np.float64)\n",
    "# x<3\n",
    "# print(x<3)\n",
    "# print(np.where(x<3))\n",
    "# print(x[np.where(x<3)])\n",
    "\n",
    "# x[x<3]=0\n",
    "print(x)"
   ]
  },
  {
   "cell_type": "markdown",
   "metadata": {},
   "source": [
    "- ** matrix operation **"
   ]
  },
  {
   "cell_type": "code",
   "execution_count": 13,
   "metadata": {
    "collapsed": true
   },
   "outputs": [],
   "source": [
    "import numpy as np\n",
    "x=np.array([[1.1,2.2,3.3],[4.4,5.5,6.6]], dtype=np.float64)\n",
    "\n",
    "y=x.T\n",
    "z=x.dot(y)\n",
    "z=np.matmul(x,y)\n",
    "# print(z)"
   ]
  },
  {
   "cell_type": "markdown",
   "metadata": {},
   "source": [
    "- ** ufunc **"
   ]
  },
  {
   "cell_type": "code",
   "execution_count": 15,
   "metadata": {
    "collapsed": true,
    "scrolled": true
   },
   "outputs": [],
   "source": [
    "import numpy as np\n",
    "x=np.array([[1.1,2.2,3.3],[4.4,5.5,6.6]], dtype=np.float64)\n",
    "\n",
    "# y=np.exp(x)\n",
    "# y=np.log(x)\n",
    "# y=x*x\n",
    "\n",
    "# np.ceil(x)\n",
    "# np.floor(x)\n",
    "# np.max(x, axis=1)\n",
    "# np.argmax(x, axis=1)\n",
    "# np.mean(x)\n",
    "# np.sum(x)\n",
    "# np.cumsum(x)\n",
    "# np.std(x) # np.sqrt((x-np.mean(x))**2/float(len(x)))\n",
    "\n",
    "# np.sort(x)"
   ]
  },
  {
   "cell_type": "markdown",
   "metadata": {},
   "source": [
    "- ** matrix operation **"
   ]
  },
  {
   "cell_type": "code",
   "execution_count": 44,
   "metadata": {},
   "outputs": [
    {
     "data": {
      "text/plain": [
       "5.9160797830996161"
      ]
     },
     "execution_count": 44,
     "metadata": {},
     "output_type": "execute_result"
    }
   ],
   "source": [
    "import numpy as np\n",
    "v=np.array([1.,3., 5.])\n",
    "np.linalg.norm(v)\n",
    "# np.linalg.eig(m)\n",
    "# np.linalg.det(m)"
   ]
  },
  {
   "cell_type": "markdown",
   "metadata": {},
   "source": [
    "## 3. numpy 相关的其他工具\n",
    "\n",
    "![anaconda.jpg](images/anaconda.jpg)\n"
   ]
  },
  {
   "cell_type": "markdown",
   "metadata": {},
   "source": [
    "### 3.1 scipy 简介\n",
    "\n",
    "numpy （基本的数据结构） > scipy （科学计算） > scikit-learn (机器学习)\n",
    "\n",
    "依赖numpy；主要提供了一些科学计算中常用的数值方法和工具函数\n",
    "\n",
    "![numpy](images/numpy.png)"
   ]
  },
  {
   "cell_type": "markdown",
   "metadata": {},
   "source": [
    "### 3.2 scikit-learn 简介\n",
    "\n",
    "numpy （基本的数据结构） > scipy （科学计算） > scikit-learn (机器学习)\n",
    "\n",
    "依赖scipy；主要提供机器学习相关的工具\n",
    "\n",
    "a uniform interface for all estimators:\n",
    "\n",
    "- transformer\n",
    "- classifier/regressor\n",
    "- pipeline = make_pipeline(transformer1,...transformerN, Classifier) \n",
    "\n",
    "常用方法：\n",
    "```\n",
    "estimator.fit(X_train, y_train) # supervised learning\n",
    "estimator.fit(X_train) # unsupervised learning\n",
    "\n",
    "estimator.score(X_test, y_test) # supervised learning\n",
    "estimator.predict(X_new) #supervised learning\n",
    "\n",
    "estimator.transform(X) #unsupervised learning\n",
    "```\n",
    "\n",
    "<table>\n",
    "<tr style=\"border:None; font-size:20px; padding:10px;\"><th>``model.predict``</th><th>``model.transform``</th></tr>\n",
    "<tr style=\"border:None; font-size:20px; padding:10px;\"><td>Classification</td><td>Preprocessing</td></tr>\n",
    "<tr style=\"border:None; font-size:20px; padding:10px;\"><td>Regression</td><td>Dimensionality Reduction</td></tr>\n",
    "<tr style=\"border:None; font-size:20px; padding:10px;\"><td>Clustering</td><td>Feature Extraction</td></tr>\n",
    "<tr style=\"border:None; font-size:20px; padding:10px;\"><td>&nbsp;</td><td>Feature Selection</td></tr>\n",
    "\n",
    "</table>\n"
   ]
  },
  {
   "cell_type": "markdown",
   "metadata": {},
   "source": [
    "### 3.3 pandas 简介\n",
    "\n",
    "numpy（基本的数据结构）> pandas （擅长时间序列、表格数据的分析、清理、增删改查）\n",
    "\n",
    "依赖numpy；pandas 擅长数据规整Wrangling的各种操作（清理，格式转换，数据合并），类SQL的manpulation（增删改查）"
   ]
  },
  {
   "cell_type": "code",
   "execution_count": 2,
   "metadata": {
    "collapsed": true
   },
   "outputs": [],
   "source": [
    "import pandas as pd\n",
    "from pandas import Series, DataFrame\n",
    "\n",
    "# Series与numpy 1d array 类似，甚至可直接操作 np.exp(obj), 但可自定义name，有dict特性如 obj['a']\n",
    "series = Series({'a': 7, 'b':-5, 'c':3}) # 通过dict 初始化\n",
    "\n",
    "data = DataFrame({'Name': ['A','B','C','D','E'], 'Price':[121,40,100,130,11]})\n",
    "# df = DataFrame({\"col1\":{'a': 7, 'b':-5, 'c':3},\"col2\":{'a':5,'b':9,'c':1}}, columns=['col2','col1'], index=['a','b','c'])\n",
    "\n",
    "# data"
   ]
  },
  {
   "cell_type": "code",
   "execution_count": 3,
   "metadata": {
    "collapsed": true
   },
   "outputs": [],
   "source": [
    "# a quick statistics\n",
    "# data.describe()"
   ]
  },
  {
   "cell_type": "code",
   "execution_count": 4,
   "metadata": {
    "collapsed": true
   },
   "outputs": [],
   "source": [
    "# print(data[\"Name\"])\n",
    "# print(data.iloc[1])"
   ]
  },
  {
   "cell_type": "code",
   "execution_count": 6,
   "metadata": {
    "collapsed": true
   },
   "outputs": [],
   "source": [
    "# data.values"
   ]
  }
 ],
 "metadata": {
  "kernelspec": {
   "display_name": "Python 2",
   "language": "python",
   "name": "python2"
  },
  "language_info": {
   "codemirror_mode": {
    "name": "ipython",
    "version": 2
   },
   "file_extension": ".py",
   "mimetype": "text/x-python",
   "name": "python",
   "nbconvert_exporter": "python",
   "pygments_lexer": "ipython2",
   "version": "2.7.14"
  }
 },
 "nbformat": 4,
 "nbformat_minor": 2
}
