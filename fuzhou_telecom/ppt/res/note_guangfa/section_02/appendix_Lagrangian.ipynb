{
 "cells": [
  {
   "cell_type": "markdown",
   "metadata": {},
   "source": [
    " # Lagrangian multiplier\n",
    " \n",
    " **KKT 条件是“拉格朗日乘子法”在不等式约束问题中的拓展。它把原始的以目标为导向的约束最优化问题，转化为可直接步骤化求解的方程问题** "
   ]
  },
  {
   "cell_type": "markdown",
   "metadata": {},
   "source": [
    "### 问题1:  $\\min\\limits_\\mathbf{x} f(\\mathbf{x}),\\quad s.t.\\; \\mathbf{h(x)}\\le0$\n",
    "\n",
    "该问题的极值点，存在两者可能性:\n",
    "\n",
    "- $f(x)$ 的极小值，落在 可行解（feasible solutions）区域 $h(x)<0$ 的内部，\n",
    "![lagrangian_1](images/lagrangian_1.jpg)\n",
    "显然这种极值点 $x^*$ 满足条件：\n",
    "$$\n",
    "\\left\\{\\begin{align}\n",
    "\\left({\\partial f\\over\\partial x}\\right)_{x^*} &&=0\\nonumber\\\\\n",
    "h(x^*)&&<0\\nonumber\n",
    "\\end{align}\\right.\n",
    "$$\n",
    "\n",
    "- $f(x)$ 的极小值，落在可行解区域的边界 $h(x)=0$ 上，\n",
    "![lagrangian_2](images/lagrangian_2.jpg)\n",
    "根据上图，这种极值点 $x^*$ 处的梯度方向 $\\partial f/\\partial \\mathbf{x}$ 应落在 梯度 $\\partial h/\\partial \\mathbf{x}$ 对应的直线上（且注意到梯度始终指向“等值线”上升的方向，因此这两个矢量方向相反），即：\n",
    "\n",
    "$$\n",
    "\\left\\{\\begin{align}\n",
    "\\left({\\partial f\\over\\partial x}\\right)_{x^*} &&=-\\alpha \\left({\\partial h\\over\\partial x}\\right)_{x^*}\\nonumber\\\\\n",
    "h(x^*)&&=0\\nonumber\n",
    "\\end{align}\\right.\n",
    "$$\n",
    "\n",
    "综合上述两种可能性，$\\min\\limits_\\mathbf{x} f(\\mathbf{x}),\\quad s.t.\\; \\mathbf{h(x)}\\le0$ 的最优解$x^*$需满足的条件可以概括为“KKT条件”：\n",
    "\n",
    "$$\n",
    "\\text{(Karush-Kuhn-Tucker条件)}\\left\\{\\begin{align}\n",
    "&\\left({\\partial L\\over\\partial \\mathbf{x}}\\right)_{x^*} =0,\\quad L(\\mathbf{x}|\\alpha) \\equiv f(\\mathbf{x}) + \\alpha h(\\mathbf{x})\\;\\text{（拉格朗日量）}\\nonumber\\\\\n",
    "&\\alpha h(x^*)=0\\nonumber\\\\\n",
    "&\\alpha\\ge 0\\nonumber\\\\\n",
    "&h(x^*)\\le 0\n",
    "\\end{align}\\right.\n",
    "$$\n",
    "其中 $\\alpha$ 称为“拉格朗日乘子”（也称为 dual variables）"
   ]
  },
  {
   "cell_type": "markdown",
   "metadata": {},
   "source": [
    "### 问题2:  $\\min\\limits_\\mathbf{x} f(\\mathbf{x}),\\quad s.t.\\; \\mathbf{h_j(x)}\\le0\\quad j=1,2\\cdots n$ (n个不等式约束)\n",
    "\n",
    "同样可以证明：最优解 $x^∗$ 满足“KKT条件”：\n",
    "\n",
    "$$\n",
    "\\text{(Karush-Kuhn-Tucker条件)}\\left\\{\\begin{align}\n",
    "&\\left({\\partial L\\over\\partial \\mathbf{x}}\\right)_{x^*} =0,,\\quad L(\\mathbf{x}|\\alpha) \\equiv f(\\mathbf{x}) + \\sum_j\\alpha_j h_j(\\mathbf{x})\\;\\text{（拉格朗日量）} \\nonumber\\\\\n",
    "&\\alpha_j h_j(x^*)=0\\quad j=1,2,\\cdots,n\\nonumber\\\\\n",
    "&\\alpha_j\\ge 0\\quad j=1,2,\\cdots,n\\nonumber\\\\\n",
    "&h_j(x^*)\\le 0\\quad j=1,2,\\cdots,n\n",
    "\\end{align}\\right.\n",
    "$$"
   ]
  },
  {
   "cell_type": "markdown",
   "metadata": {},
   "source": [
    "### 问题3:  $\\min\\limits_\\mathbf{x} f(\\mathbf{x}),\\quad s.t.\\; \\mathbf{g_i(x)}=0\\; \\mathbf{h_j(x)}\\le0$ (m个等式约束，n个不等式约束)\n",
    "\n",
    "同样可以证明：最优解 $x^∗$ 满足“KKT条件”：\n",
    "\n",
    "$$\n",
    "\\text{(Karush-Kuhn-Tucker条件)}\\left\\{\\begin{align}\n",
    "&\\left({\\partial L\\over\\partial \\mathbf{x}}\\right)_{x^*} =0 \\nonumber\\\\\n",
    "&\\alpha_j h_j(x^*)=0\\quad j=1,2,\\cdots,n\\nonumber\\\\\n",
    "&\\alpha_j\\ge 0\\quad j=1,2,\\cdots,n\\nonumber\\\\\n",
    "&h_j(x^*)\\le 0\\quad j=1,2,\\cdots,n\\nonumber\\\\\n",
    "&g_i(x^*)= 0\\quad i=1,2,\\cdots,m\\\\\n",
    "\\end{align}\\right.\\qquad\\text(1)\n",
    "$$\n",
    "其中\n",
    "$$L(\\mathbf{x}|\\alpha,\\beta) \\equiv f(\\mathbf{x}) + \\sum_{j=1}^n\\alpha_j h_j(\\mathbf{x}) + \\sum_{i=1}^m\\beta_i  g_i(\\mathbf{x})\\;\\text{（拉格朗日量）}\\qquad\\text{(2)}$$\n",
    "\n",
    "\n",
    "### 问题3的 prmary form\n",
    "\n",
    "暂时忘记KKT条件，考虑公式（2）对应的拉格朗日量（只要求所有的$\\alpha_j\\ge0$），我们有，\n",
    "\n",
    "$$\\max\\limits_{\\beta,\\alpha\\ge0} L(\\mathbf{x}|\\alpha,\\beta)=\n",
    "\\left\\{\\begin{align}\n",
    "&f(\\mathbf{x})\\quad\\text{当所有约束条件 $\\forall i,j:\\;\\mathbf{g_i(x)}=0,\\;\\mathbf{h_j(x)}\\le0$ 满足时}\\\\\n",
    "&+\\infty \\quad\\text{otherwise}\\\\\n",
    "\\end{align}\\right.\n",
    "$$\n",
    "\n",
    "因此，上述**问题3**可以表述为如下 **primary form**\n",
    "\n",
    "$$ \\min_x\\left(\\max\\limits_{\\beta,\\alpha\\ge0} L(\\mathbf{x}|\\alpha,\\beta)\\right) $$\n",
    "\n",
    "> 注意：和原始的**问题3**，primary form的特点在于不再显含约束条件。 primary form 的求解方式就是“KKT条件”"
   ]
  },
  {
   "cell_type": "markdown",
   "metadata": {},
   "source": [
    "# 对偶问题\n"
   ]
  },
  {
   "cell_type": "markdown",
   "metadata": {},
   "source": [
    "定义该primary form 对应的**dual form**为：\n",
    "\n",
    "$$ \\max\\limits_{\\beta,\\alpha\\ge0}\\left(\\min\\limits_x L(\\mathbf{x}|\\alpha,\\beta)\\right) $$\n",
    "\n",
    "可以证明，当所求解满足**KKT条件**, 且(1) 所有不等式约束中的 $h_j(x)$ 都是“凸函数”（convex function）; (2) 所有等式约束中的$g_i(x)$ 都是线性函数时，我们有“强对偶”关系: **primary form**的解和 **dual form**  完全一致\n",
    "\n",
    "> - 凸集：（在欧氏空间中）集合内的任意一对点连线段上的点也属于该集合，则此集合称为“凸集合”(convect set)\n",
    "> - 凸函数: 实函数$f(\\mathbf{x})$，给定任意一个允许的$\\mathbf{x}$凸集$C$，若 $C$ 中任意一对点 $\\mathbf{x}_1,\\mathbf{x}_2$ 都满足：$f\\left({\\mathbf{x}_1 + \\mathbf{x}_2\\over2}\\right)\\ge {f\\left(\\mathbf{x}_1\\right)+ f\\left(\\mathbf{x}_1\\right)\\over2}$, 则称 $f(\\mathbf{x})$ 是“凸函数”\n",
    "\n",
    "**在凸优化条件满足时，dural form的求解往往比primary form更容易，在svm问题中dural form的另一个好处是可以引入kernel trick**\n",
    "\n",
    "在不少场合dual form 比primary form的求解更简单。一般求解步骤如下：\n",
    "\n",
    "1. 根据 $\\min\\limits_x L(\\mathbf{x}|\\alpha,\\beta)$ 对应的鞍点条件： $\\left({\\partial L(\\mathbf{x}|\\alpha,\\beta)\\over\\partial \\mathbf{x}}\\right)_{x^*} = 0$ 得出 $\\mathbf{x}^*$ 关于\n",
    "对偶变量 $\\alpha, \\beta$ 的表达式 $x^*=q(\\alpha,\\beta)$\n",
    "\n",
    "2. 将此表达式代入 $L(\\mathbf{x}|\\alpha,\\beta)$，于是dual form化为仅包含$\\alpha,\\beta$的形式：$\\max\\limits_{\\beta,\\alpha\\ge0}\\theta_D(\\alpha,\\beta)$\n",
    "\n",
    "3. 根据 $\\max\\limits_{\\beta,\\alpha\\ge0}\\theta_D(\\alpha,\\beta)$ 对应的鞍点条件： $\\left({\\partial \\theta_D(\\alpha,\\beta)\\over\\partial \\alpha}\\right)_{\\alpha^*,\\beta^*} = \\left({\\partial \\theta_D(\\alpha,\\beta)\\over\\partial \\beta}\\right)_{\\alpha^*,\\beta^*} = 0$ 得出 对偶问题的最优解 $(\\alpha^*,\\beta^*)$\n",
    "\n",
    "4. 根据关系步骤1得到的关系 $x^*=q(\\alpha^*,\\beta^*)$，求出primary form的最优解 $\\mathbf{x}^*$，并验证 $\\alpha^*,\\beta^*, x^*$ 是否满足 KKT 条件 "
   ]
  }
 ],
 "metadata": {
  "kernelspec": {
   "display_name": "Python 2",
   "language": "python",
   "name": "python2"
  },
  "language_info": {
   "codemirror_mode": {
    "name": "ipython",
    "version": 2
   },
   "file_extension": ".py",
   "mimetype": "text/x-python",
   "name": "python",
   "nbconvert_exporter": "python",
   "pygments_lexer": "ipython2",
   "version": "2.7.14"
  }
 },
 "nbformat": 4,
 "nbformat_minor": 2
}
