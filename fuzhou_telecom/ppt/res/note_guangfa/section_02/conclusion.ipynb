{
 "cells": [
  {
   "cell_type": "markdown",
   "metadata": {},
   "source": [
    "## 应用机器学习的步骤\n",
    "\n",
    "\n",
    "- choose data\n",
    "\n",
    "    - training set\n",
    "    - validation set (cross validation)\n",
    "    - test set\n",
    "\n",
    "- choose target (learning target, such as probability output, value vector output, rewards value (as a function of the game state and the action) )\n",
    "\n",
    "- choose model to describe target (linear, polynomial, logistic, decision trees, neural network etc)\n",
    "\n",
    "- choose update rule (minimize cross entropy or MSE, SGD, heuristic search)\n",
    "\n",
    "- test, test, test!\n",
    "\n",
    "\n",
    "> the devil is in the details\n",
    ">\n",
    "> 还有很多细节没有介绍到，但万变不离其综 希望大家可以根据纲要在具体项目中补充细节\n",
    "\n"
   ]
  },
  {
   "cell_type": "markdown",
   "metadata": {},
   "source": [
    "### 课后习题\n",
    "\n",
    "采用相关算法，实现一个过滤垃圾短信的功能，数据集见data： spams.csv\n",
    "\n",
    "qq: 380683145"
   ]
  },
  {
   "cell_type": "code",
   "execution_count": 3,
   "metadata": {
    "collapsed": true
   },
   "outputs": [],
   "source": [
    "# %load scripts/Logistic_step01.py"
   ]
  }
 ],
 "metadata": {
  "kernelspec": {
   "display_name": "Python 2",
   "language": "python",
   "name": "python2"
  },
  "language_info": {
   "codemirror_mode": {
    "name": "ipython",
    "version": 2
   },
   "file_extension": ".py",
   "mimetype": "text/x-python",
   "name": "python",
   "nbconvert_exporter": "python",
   "pygments_lexer": "ipython2",
   "version": "2.7.14"
  }
 },
 "nbformat": 4,
 "nbformat_minor": 2
}
