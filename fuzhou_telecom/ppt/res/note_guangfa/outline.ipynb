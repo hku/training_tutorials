{
 "cells": [
  {
   "cell_type": "markdown",
   "metadata": {},
   "source": [
    "# Outline"
   ]
  },
  {
   "cell_type": "markdown",
   "metadata": {},
   "source": [
    "- ### about python\n",
    "    - [python briefs](section_01/01_python_basic.ipynb)\n",
    "    - [ipython and notebook briefs](section_01/02_ipython_and_notebook.ipynb)\n",
    "    - [a taste of numpy](section_01/03_numpy.ipynb)\n",
    "    - [a taste of matplotlib](section_01/04_matplotlib.ipynb) \n",
    "    \n",
    "- ### machine learning\n",
    "    - [machine learning overview](section_02/01_machine_learning_overview.ipynb)\n",
    "    - [feature_engineering](section_02/02_feature_engineering.ipynb) \n",
    "    - [example: linear regression](section_02/03_linear_regression.ipynb)\n",
    "    - [example: logistic regression](section_02/04_logistic_regression.ipynb) \n",
    "    - [decision tree](section_02/05_decision_tree.ipynb)\n",
    "    - [svm](section_02/06_svm.ipynb) \n",
    "    - [deeplearning: neural network](section_02/07_neural_network.ipynb)\n",
    "    - [conclusion](section_02/conclusion.ipynb)"
   ]
  }
 ],
 "metadata": {
  "kernelspec": {
   "display_name": "Python 2",
   "language": "python",
   "name": "python2"
  },
  "language_info": {
   "codemirror_mode": {
    "name": "ipython",
    "version": 2
   },
   "file_extension": ".py",
   "mimetype": "text/x-python",
   "name": "python",
   "nbconvert_exporter": "python",
   "pygments_lexer": "ipython2",
   "version": "2.7.14"
  }
 },
 "nbformat": 4,
 "nbformat_minor": 2
}
