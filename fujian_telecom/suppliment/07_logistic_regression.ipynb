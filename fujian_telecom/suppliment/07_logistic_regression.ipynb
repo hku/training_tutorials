{
 "cells": [
  {
   "cell_type": "markdown",
   "metadata": {},
   "source": [
    "# Tutorial_08: logistic regression"
   ]
  },
  {
   "cell_type": "code",
   "execution_count": 1,
   "metadata": {
    "collapsed": true
   },
   "outputs": [],
   "source": [
    "%matplotlib inline"
   ]
  },
  {
   "cell_type": "markdown",
   "metadata": {},
   "source": [
    "**步骤1：准备数据**"
   ]
  },
  {
   "cell_type": "code",
   "execution_count": 1,
   "metadata": {},
   "outputs": [
    {
     "name": "stdout",
     "output_type": "stream",
     "text": [
      "blob seed: 125\n"
     ]
    },
    {
     "data": {
      "image/png": "[encoded data removed]",
      "text/plain": [
       "<matplotlib.figure.Figure at 0x7dc47b8>"
      ]
     },
     "metadata": {},
     "output_type": "display_data"
    },
    {
     "name": "stdout",
     "output_type": "stream",
     "text": [
      "(100L, 2L)\n",
      "[[ 1.89409049 -8.81537178]\n",
      " [ 3.48405237 -7.95471678]\n",
      " [ 0.85686762 -9.29059834]\n",
      " [-0.27280589 -6.16241835]\n",
      " [ 0.23644392 -7.65340468]]\n",
      "[1 1 0 0 0]\n"
     ]
    }
   ],
   "source": [
    "from utils import load_blobs, plot_blobs\n",
    "from matplotlib import pyplot as plt\n",
    "\n",
    "x, y = load_blobs()\n",
    "plot_blobs(x, y)\n",
    "plt.show()\n",
    "print(x.shape)\n",
    "print(x[:5, :])\n",
    "print(y[:5])\n"
   ]
  },
  {
   "cell_type": "markdown",
   "metadata": {},
   "source": [
    "**步骤2: 确定模型，寻找最佳的超参数**"
   ]
  },
  {
   "cell_type": "code",
   "execution_count": 2,
   "metadata": {},
   "outputs": [
    {
     "name": "stdout",
     "output_type": "stream",
     "text": [
      "Fitting 5 folds for each of 6 candidates, totalling 30 fits\n",
      "[CV] penalty=l2, C=0.02 ..............................................\n",
      "[CV] ................... penalty=l2, C=0.02, score=0.95, total=   0.0s\n",
      "[CV] penalty=l2, C=0.02 ..............................................\n",
      "[CV] ................... penalty=l2, C=0.02, score=0.95, total=   0.0s\n",
      "[CV] penalty=l2, C=0.02 ..............................................\n",
      "[CV] .................... penalty=l2, C=0.02, score=0.8, total=   0.0s\n",
      "[CV] penalty=l2, C=0.02 ..............................................\n",
      "[CV] ................... penalty=l2, C=0.02, score=0.95, total=   0.0s\n",
      "[CV] penalty=l2, C=0.02 ..............................................\n",
      "[CV] .................... penalty=l2, C=0.02, score=1.0, total=   0.0s\n",
      "[CV] penalty=l1, C=0.02 ..............................................\n",
      "[CV] ................... penalty=l1, C=0.02, score=0.75, total=   0.0s\n",
      "[CV] penalty=l1, C=0.02 ..............................................\n",
      "[CV] .................... penalty=l1, C=0.02, score=0.8, total=   0.0s\n",
      "[CV] penalty=l1, C=0.02 ..............................................\n",
      "[CV] .................... penalty=l1, C=0.02, score=0.7, total=   0.0s\n",
      "[CV] penalty=l1, C=0.02 ..............................................\n",
      "[CV] .................... penalty=l1, C=0.02, score=0.7, total=   0.0s\n",
      "[CV] penalty=l1, C=0.02 ..............................................\n",
      "[CV] .................... penalty=l1, C=0.02, score=0.7, total=   0.0s\n",
      "[CV] penalty=l2, C=1 .................................................\n",
      "[CV] ...................... penalty=l2, C=1, score=0.95, total=   0.0s\n",
      "[CV] penalty=l2, C=1 .................................................\n",
      "[CV] ...................... penalty=l2, C=1, score=0.95, total=   0.0s\n",
      "[CV] penalty=l2, C=1 .................................................\n",
      "[CV] ...................... penalty=l2, C=1, score=0.85, total=   0.0s\n",
      "[CV] penalty=l2, C=1 .................................................\n",
      "[CV] ...................... penalty=l2, C=1, score=0.95, total=   0.0s\n",
      "[CV] penalty=l2, C=1 .................................................\n",
      "[CV] ....................... penalty=l2, C=1, score=1.0, total=   0.0s\n",
      "[CV] penalty=l1, C=1 .................................................\n",
      "[CV] ...................... penalty=l1, C=1, score=0.95, total=   0.0s\n",
      "[CV] penalty=l1, C=1 .................................................\n",
      "[CV] ...................... penalty=l1, C=1, score=0.95, total=   0.0s\n",
      "[CV] penalty=l1, C=1 .................................................\n",
      "[CV] ....................... penalty=l1, C=1, score=0.8, total=   0.0s\n",
      "[CV] penalty=l1, C=1 .................................................\n",
      "[CV] ...................... penalty=l1, C=1, score=0.95, total=   0.0s\n",
      "[CV] penalty=l1, C=1 .................................................\n",
      "[CV] ....................... penalty=l1, C=1, score=1.0, total=   0.0s\n",
      "[CV] penalty=l2, C=50 ................................................\n",
      "[CV] ...................... penalty=l2, C=50, score=0.9, total=   0.0s\n",
      "[CV] penalty=l2, C=50 ................................................\n",
      "[CV] ...................... penalty=l2, C=50, score=0.9, total=   0.0s\n",
      "[CV] penalty=l2, C=50 ................................................\n",
      "[CV] ..................... penalty=l2, C=50, score=0.85, total=   0.0s\n",
      "[CV] penalty=l2, C=50 ................................................\n",
      "[CV] ..................... penalty=l2, C=50, score=0.95, total=   0.0s\n",
      "[CV] penalty=l2, C=50 ................................................\n",
      "[CV] ...................... penalty=l2, C=50, score=1.0, total=   0.0s\n",
      "[CV] penalty=l1, C=50 ................................................\n",
      "[CV] ...................... penalty=l1, C=50, score=0.9, total=   0.0s\n",
      "[CV] penalty=l1, C=50 ................................................\n",
      "[CV] ...................... penalty=l1, C=50, score=0.9, total=   0.0s\n",
      "[CV] penalty=l1, C=50 ................................................\n",
      "[CV] ..................... penalty=l1, C=50, score=0.85, total=   0.0s\n",
      "[CV] penalty=l1, C=50 ................................................\n",
      "[CV] ..................... penalty=l1, C=50, score=0.95, total=   0.0s\n",
      "[CV] penalty=l1, C=50 ................................................\n",
      "[CV] ...................... penalty=l1, C=50, score=1.0, total=   0.0s\n",
      "0.94\n",
      "{'penalty': 'l2', 'C': 1}\n"
     ]
    },
    {
     "name": "stderr",
     "output_type": "stream",
     "text": [
      "[Parallel(n_jobs=1)]: Done   1 out of   1 | elapsed:    0.0s remaining:    0.0s\n",
      "[Parallel(n_jobs=1)]: Done   2 out of   2 | elapsed:    0.0s remaining:    0.0s\n",
      "[Parallel(n_jobs=1)]: Done  30 out of  30 | elapsed:    0.0s finished\n"
     ]
    }
   ],
   "source": [
    "import numpy as np\n",
    "from sklearn.linear_model import LogisticRegression\n",
    "from sklearn.model_selection import GridSearchCV\n",
    "\n",
    "param_grid = {'C': [0.02, 1, 50], 'penalty': [\"l2\", \"l1\"]}\n",
    "grid = GridSearchCV(LogisticRegression(), param_grid=param_grid, cv=5, verbose=3)\n",
    "\n",
    "grid.fit(x, y) # an interface similar to estimator\n",
    "print(grid.best_score_)\n",
    "print(grid.best_params_)"
   ]
  },
  {
   "cell_type": "markdown",
   "metadata": {},
   "source": [
    "**步骤3：模型拟合（训练）**"
   ]
  },
  {
   "cell_type": "code",
   "execution_count": 3,
   "metadata": {},
   "outputs": [
    {
     "data": {
      "image/png": "[encoded data removed]",
      "text/plain": [
       "<matplotlib.figure.Figure at 0xb3485f8>"
      ]
     },
     "metadata": {},
     "output_type": "display_data"
    },
    {
     "data": {
      "text/plain": [
       "0.93999999999999995"
      ]
     },
     "execution_count": 3,
     "metadata": {},
     "output_type": "execute_result"
    }
   ],
   "source": [
    "import numpy as np\n",
    "from matplotlib import pyplot as plt\n",
    "from sklearn.linear_model import LogisticRegression\n",
    "# from sklearn.tree import DecisionTreeClassifier\n",
    "\n",
    "from utils import plot_blobs, plot_2d_boundary\n",
    "\n",
    "clf = LogisticRegression(penalty=\"l2\", C=1) # logisitic classifier\n",
    "\n",
    "# clf = DecisionTreeClassifier()\n",
    "\n",
    "clf.fit(x, y)\n",
    "\n",
    "xmin, xmax = np.min(x[:, 0])-0.5, np.max(x[:, 0])+0.5\n",
    "ymin, ymax = np.min(x[:, 1])-0.5, np.max(x[:, 1])+0.5\n",
    "plot_blobs(x, y)\n",
    "plot_2d_boundary(clf, xmin, xmax, ymin, ymax)\n",
    "plt.show()\n",
    "\n",
    "clf.score(x,y) #accuracy\n",
    "# clf.predict(x) # classification result \n",
    "# clf.predict_proba(x) # classification probs\n",
    "# clf.decision_function(x) # signed distance\n"
   ]
  }
 ],
 "metadata": {
  "kernelspec": {
   "display_name": "Python 2",
   "language": "python",
   "name": "python2"
  },
  "language_info": {
   "codemirror_mode": {
    "name": "ipython",
    "version": 2
   },
   "file_extension": ".py",
   "mimetype": "text/x-python",
   "name": "python",
   "nbconvert_exporter": "python",
   "pygments_lexer": "ipython2",
   "version": "2.7.14"
  }
 },
 "nbformat": 4,
 "nbformat_minor": 2
}
