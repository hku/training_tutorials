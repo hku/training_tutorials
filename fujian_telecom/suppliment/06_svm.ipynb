{
 "cells": [
  {
   "cell_type": "markdown",
   "metadata": {},
   "source": [
    "# Tutorial_010:  support vector machine "
   ]
  },
  {
   "cell_type": "code",
   "execution_count": 1,
   "metadata": {
    "collapsed": true
   },
   "outputs": [],
   "source": [
    "%matplotlib inline"
   ]
  },
  {
   "cell_type": "markdown",
   "metadata": {},
   "source": [
    "## 模型思想（binary classification，linear separable case）\n",
    "\n",
    "#### 怎样求解\n",
    "\n",
    "已知 labeled dataset $\\{(\\mathbf{x_i}, y_i),\\; i=1,2,\\cdots N\\}$, 其中 $\\mathbf{x_i}$ 表示feature vector, $y_i\\in\\{1, -1\\}$ 标记样本$i$所属的类别。 对于linear separable case，我们可以找到能够完美分割这两类的“平面”，即存在满足如下条件的参数$(\\mathbf{w}, b)$：\n",
    "\n",
    "$$\n",
    "\\begin{eqnarray}\n",
    "\\mathbf{w\\cdot x_i} + b &\\ge&\\epsilon, ~~\\text{for $y_i=1$, $\\epsilon$ is a small number}\\\\\n",
    "\\mathbf{w\\cdot x_i} + b &\\le& -\\epsilon, ~~\\text{for $y_i=-1$}\n",
    "\\end{eqnarray}\n",
    "$$\n",
    "\n",
    "我们“最优化”的目标是，寻找一个平面的“方向”（由其“法向量”$\\mathbf{w}$决定），使得两类样本点在这个方向上的间隔 (如图中$d_A$所示) 最大。\n",
    "\n",
    "![svm_1](images/svm_1.jpg)\n",
    "\n",
    "\n",
    "由于我们最优化的目标是寻找“平面”方向，而“平面”方向对参数$\\mathbf{w}$的依赖存在一个任意因子，因此我们将参数的 candidate 集合（“可行解”集合）限定为满足条件：\n",
    "\n",
    "$$\n",
    "\\begin{eqnarray}\n",
    "\\mathbf{w\\cdot x_i} + b \\ge1, ~~\\text{for $y_i=1$}&&\\\\\n",
    "&\\Longleftrightarrow& y_i(\\mathbf{w\\cdot x_i} + b)>1~~\\text{for every sample $i$}\\qquad\\text{(1)}\\\\\n",
    "\\mathbf{w\\cdot x_i} + b \\le-1, ~~\\text{for $y_i=-1$}&&\n",
    "\\end{eqnarray}\n",
    "$$\n",
    "\n",
    "此时，两类样本点间隔的下限值等于平面$\\mathbf{w\\cdot x} + b=1$ 和 $\\mathbf{w\\cdot x} + b=-1$ 之间的距离$d$：\n",
    "\n",
    "$$d={2\\over \\|w\\|}\\qquad\\text{(2)}$$\n",
    "\n",
    "> 平面 $Ax + By + Cz + D_1 = 0$ 和 $Ax + By + Cz + D_2 = 0$ 之间的距离为 $d={|D_1 - D_2|\\over\\sqrt{A^2 + B^2 + C^2}}$  \n",
    "\n",
    "落在这两个 boundary 平面上的样本点称为**“support vector”**.\n",
    "\n",
    "根据Eq.(2) 最大化间隔$d$, 等价于最小化$\\|\\mathbf{w}\\|$, 因此结合Eq.(1), 我们的最优化问题定义为：\n",
    "\n",
    "$$\\mathop{min}\\limits_{\\mathbf{w}, b}{\\|w\\|^2\\over 2},\\qquad s.t.\\quad y_i(\\mathbf{w\\cdot x_i} + b)\\ge1~~\\text{for every sample $i$}\\qquad\\text{(3)}$$\n",
    "\n",
    "（s.t. means subject to）\n",
    "\n",
    "#### 怎样决策\n",
    "\n",
    "显然，求出模型最优解 $(\\mathbf{w}^*, b^*)$后，新的类别预测值由以下关系给出\n",
    "$$y = \\mathop{sign}(\\mathbf{w^*\\cdot x} + b^*)\\qquad\\text{(*)}$$\n"
   ]
  },
  {
   "cell_type": "markdown",
   "metadata": {
    "collapsed": true
   },
   "source": [
    "## 模型求解与对偶方法\n",
    "\n",
    "最优化问题 Eq.(3) 对应的 [拉格朗日量，KKT条件 和 primary form](appendix_Lagrangian.ipynb)为\n",
    "\n",
    "$$\\text{拉格朗日量：}L(w,b|\\alpha)\\equiv {\\|w\\|^2\\over 2} + \\sum\\limits_i\\alpha_i\\left(1 - y_i(\\mathbf{w\\cdot x_i} + b)\\right)$$\n",
    "\n",
    "$$\n",
    "\\text{Karush-Kuhn-Tucker条件}\\left\\{\\begin{align}\n",
    "&{\\partial L\\over\\partial \\mathbf{w}} =0,\\;{\\partial L\\over\\partial b} =0 \\Longrightarrow \\mathbf{w} = \\sum_i\\alpha_iy_i\\mathbf{x}_i,\\;0 = \\sum_i\\alpha_iy_i\\\\\n",
    "&\\alpha_i\\left(1 - y_i(\\mathbf{w\\cdot x_i} + b)\\right)=0\\quad j=1,2,\\cdots,n \\text{ 该条件要求非“边界点”（support vectors） 对应的$\\alpha_i=0$}\\\\\n",
    "&\\alpha_i\\ge 0\\quad j=1,2,\\cdots,n\\\\\n",
    "&y_i(\\mathbf{w\\cdot x_i} + b)\\ge 1\\quad j=1,2,\\cdots,n\n",
    "\\end{align}\\right.\n",
    "$$\n",
    "\n",
    "$$\\text{primary form: } \\min\\limits_{\\mathbf{w}, b}\\left(\\max\\limits_{\\alpha\\ge0}L(w,b|\\alpha)\\right)$$\n",
    "\n",
    "由于这里不等式约束满足“凸函数”要求，我们可以通过[对偶问题](appendix_Lagrangian.ipynb)的方式进行求解\n",
    "\n",
    "\n",
    "$$\\text{dual form: } \\max\\limits_{\\alpha\\ge0}\\left(\\min\\limits_{\\mathbf{w}, b}L(w,b|\\alpha)\\right)$$\n",
    "\n",
    "具体包括以下步骤\n",
    "\n",
    "- 步骤1：\n",
    "$$\n",
    "{\\partial L\\over\\partial \\mathbf{w}} =0,\\;{\\partial L\\over\\partial b} =0 \\Longrightarrow \\mathbf{w} = \\sum_i\\alpha_iy_i\\mathbf{x}_i,\\;0 = \\sum_i\\alpha_iy_i\n",
    "$$\n",
    "\n",
    "- 步骤2：\n",
    "\n",
    "将此关系代入$L$表达式，dual form 化为：\n",
    "\n",
    "$$\\begin{align}\n",
    "&\\max\\limits_{\\alpha } \\theta_D(\\alpha)\\qquad s.t.\\; \\text{$\\forall i:\\alpha_i\\ge 0$, 且 $\\sum\\limits_i\\alpha_iy_i=0$}\\qquad\\text{(4)}\\\\\n",
    "&\\text{其中 }\\theta_D(\\alpha)\\equiv \\sum\\limits_i\\alpha_i - \\frac{1}{2}\\sum\\limits_{ij}\\alpha_i\n",
    "\\alpha_jy_iy_j\\mathbf{x}_i\\cdot \\mathbf{x}_j\n",
    "\\end{align}\n",
    "$$\n",
    "\n",
    "> \"quadratic form\": SMO 算法（Sequential Minimal Optimization）求极值\n",
    "\n",
    "- 步骤3：\n",
    "\n",
    "依据公式（4）求解出dual form的最优解$\\alpha^*$ 后，根据如下关系求出primary form的最优解$(\\mathbf{w}^*,b^*)$:\n",
    "\n",
    "$$\\begin{eqnarray}\n",
    "\\mathbf{w}^*&=&\\sum_i\\alpha^*_iy_i\\mathbf{x}_i\\\\\n",
    "b^*&=&-{\\max\\limits_{i: y_i=-1}(\\mathbf{w^*\\cdot x_i}) + \\min\\limits_{i: y_i=1}(\\mathbf{w^*\\cdot x_i})\\over 2}\n",
    "\\end{eqnarray}\\qquad\\text{(5)}\n",
    "$$\n",
    "并验证 $(\\alpha^*, \\mathbf{w}^*, b^*)$ 是否满足 KKT 条件 （注意KKT条件确保**仅有support vectors 对应的$\\alpha_i$ 非 0**）\n"
   ]
  },
  {
   "cell_type": "markdown",
   "metadata": {
    "collapsed": true
   },
   "source": [
    "## “核函数”\n",
    "\n",
    "\n",
    "\n",
    "注意到模型求解的公式(4),仅依赖于特征向量的“内积”$\\mathbf{x}_i\\cdot \\mathbf{x}_j$\n",
    "\n",
    "\n",
    "同样将公式(5)代入公式（*），我们发现决策公式，也仅依赖于“内积”:\n",
    "\n",
    "$$y=\\mathop{sign}\\left( \\sum_i\\alpha^*_iy_i\\mathbf{x_i\\cdot x} + b^* \\right)$$\n",
    "\n",
    "而特征向量的选取存在一定的任意性，例如若我们选取$\\tilde{\\mathbf{x}}=\\mathbf{\\phi(x)}$,作为特征向量，则上述所有推导都成立。（即，此时模型求解和决策公式将依赖于特征向量 $\\tilde{\\mathbf{x}}$ 的“内积”。）我们不妨令 **“核函数”** $k(\\mathbf{x}_1,\\mathbf{x}_2)\\equiv \\mathbf{\\phi(x_1)}\\cdot \\mathbf{\\phi(x_2)}$， ($\\mathbf{\\phi(x)}$ 可以是关于$\\mathbf{x}$的一个无穷级数，甚至没有显式的表达!)\n",
    "\n",
    "利用 **“核函数”**，公式（4）、（*）、（5）可分别改写为：\n",
    "\n",
    "$$\\begin{align}\n",
    "&\\alpha^*=\\mathop{\\rm argmax}\\limits_{\\alpha } \\left(\\sum\\limits_i\\alpha_i - \\frac{1}{2}\\sum\\limits_{ij}\\alpha_i\n",
    "\\alpha_jy_iy_j k(\\mathbf{x}_i, \\mathbf{x}_j)\\right)\\qquad s.t.\\; \\text{$\\forall i:\\alpha_i\\ge 0$, 且 $\\sum\\limits_i\\alpha_iy_i=0$}\\qquad\\text{(4')}\\\\\n",
    "&y=\\mathop{\\rm sign}\\left( \\sum_i\\alpha^*_iy_ik(\\mathbf{x}_i, \\mathbf{x}) + b^* \\right)\\qquad\\text{(*')}\\\\\n",
    "&b^*=-\\frac{\\max\\limits_{i:y_i=-1}\\left(\\sum\\limits_j\\alpha^*_jy_jk(\\mathbf{x}_j, \\mathbf{x}_i)\\right) + \n",
    "\\min\\limits_{i:y_i=1}\\left(\\sum\\limits_j\\alpha^*_jy_jk(\\mathbf{x}_j, \\mathbf{x}_i)\\right) }{2}\\qquad\\text{(5')}\n",
    "\\end{align}\n",
    "$$\n",
    "（注意：这里形式上模型完全依赖于 dual参数 $\\alpha^*$，而不再需要显式地求出$\\mathbf{w}^*, b^*$）\n",
    "\n",
    "\n",
    "> **“核函数”方法有效的原因**：核函数本质上是特征向量由**低维空间**向**高维空间**的非线性变换。而在低维空间不能用“超平面”分割的类往往可以在**高维空间**被“超平面”分割，例如：![svm_2](images/svm_2.jpg)\n",
    "\n",
    "\n",
    "常用的核函数,例如\n",
    "\n",
    "- 多项式核:\n",
    "    $$k(\\mathbf{x}_1, \\mathbf{x}_2) \\equiv \\left(\\mathbf{x}_1\\cdot\\mathbf{x}_2+R\\right)^d$$\n",
    "\n",
    "- 高斯核 rbf（Radial Basis Function）：\n",
    "    $$k(\\mathbf{x}_1, \\mathbf{x}_2) \\equiv \\exp\\left(-\\frac{\\|\\mathbf{x}_1-\\mathbf{x}_2\\|^2}{2\\sigma^2}\\right)$$"
   ]
  },
  {
   "cell_type": "markdown",
   "metadata": {},
   "source": [
    "- [文章推荐1](http://blog.csdn.net/v_july_v/article/details/7624837)\n",
    "- [文章推荐2](https://zhuanlan.zhihu.com/p/24638007)"
   ]
  },
  {
   "cell_type": "markdown",
   "metadata": {},
   "source": [
    "## 超参数\n",
    "\n",
    "SVM come in two kinds: SVCs, Support Vector Classifiers, for classification problems, and SVRs, Support Vector Regressors, for regression problems.\n",
    "\n",
    "The most important parameter of the SVM is the regularization parameter $C$, which bounds the influence of each individual sample:\n",
    "\n",
    "- Low C values: many support vectors... Decision frontier = mean(class A) - mean(class B)\n",
    "- High C values: small number of support vectors: Decision frontier fully driven by most discriminant samples\n",
    "\n",
    "The other important parameters are those of the kernel.\n",
    "\n",
    "**一个例子**"
   ]
  },
  {
   "cell_type": "code",
   "execution_count": 8,
   "metadata": {},
   "outputs": [
    {
     "name": "stdout",
     "output_type": "stream",
     "text": [
      "blob seed: 125\n"
     ]
    },
    {
     "data": {
      "image/png": "[encoded data removed]",
      "text/plain": [
       "<matplotlib.figure.Figure at 0xcc97b00>"
      ]
     },
     "metadata": {},
     "output_type": "display_data"
    }
   ],
   "source": [
    "import numpy as np\n",
    "from matplotlib import pyplot as plt\n",
    "from sklearn.svm import SVC\n",
    "from utils import load_blobs, plot_blobs\n",
    "from utils import plot_blobs, plot_2d_boundary\n",
    "\n",
    "x, y = load_blobs()\n",
    "\n",
    "# clf = SVC(C=1, kernel='rbf', gamma=1)\n",
    "# clf = SVC(C=1, kernel='rbf', gamma=10)\n",
    "# clf = SVC(C=0.1, kernel='rbf', gamma=0.5)\n",
    "clf = SVC(C=0.1, kernel='rbf', gamma=1)\n",
    "\n",
    "\n",
    "clf.fit(x, y)\n",
    "\n",
    "xmin, xmax = np.min(x[:, 0])-0.5, np.max(x[:, 0])+0.5\n",
    "ymin, ymax = np.min(x[:, 1])-0.5, np.max(x[:, 1])+0.5\n",
    "\n",
    "plot_blobs(x, y)\n",
    "\n",
    "plot_2d_boundary(clf, xmin, xmax, ymin, ymax)\n",
    "\n",
    "plt.show()"
   ]
  },
  {
   "cell_type": "code",
   "execution_count": 17,
   "metadata": {
    "collapsed": true
   },
   "outputs": [],
   "source": [
    "SVC?\n",
    "\n",
    "\n",
    "\n"
   ]
  }
 ],
 "metadata": {
  "kernelspec": {
   "display_name": "Python 2",
   "language": "python",
   "name": "python2"
  },
  "language_info": {
   "codemirror_mode": {
    "name": "ipython",
    "version": 2
   },
   "file_extension": ".py",
   "mimetype": "text/x-python",
   "name": "python",
   "nbconvert_exporter": "python",
   "pygments_lexer": "ipython2",
   "version": "2.7.14"
  }
 },
 "nbformat": 4,
 "nbformat_minor": 2
}
