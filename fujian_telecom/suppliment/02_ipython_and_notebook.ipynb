{
 "cells": [
  {
   "cell_type": "markdown",
   "metadata": {
    "collapsed": true
   },
   "source": [
    "# Tutorial_02: ipython and notebook"
   ]
  },
  {
   "cell_type": "markdown",
   "metadata": {},
   "source": [
    "## 1. ipython"
   ]
  },
  {
   "cell_type": "markdown",
   "metadata": {},
   "source": [
    "python REPL(read–eval–print loop) 环境，CLI（command line interface）\n",
    "\n",
    "仿 matlab"
   ]
  },
  {
   "cell_type": "markdown",
   "metadata": {},
   "source": [
    "**常用命令**\n",
    "\n",
    "1. 帮助命令\n",
    "    - ```numpy?``` 等\n",
    "2. shell命令\n",
    "    - ```!ls```\n",
    "    - ```!pwd``` 等\n",
    "3. magic命令\n",
    "    - ```%run test.py```\n",
    "    - ```%load test.py``` 等\n",
    "    \n",
    "4. 快捷键\n",
    "    - ctrl+c 中断\n",
    "    - tab 自动补全\n",
    "    - shift + tab 显示帮助（在半括号后）"
   ]
  },
  {
   "cell_type": "markdown",
   "metadata": {},
   "source": [
    "## 2. jupyter notebook"
   ]
  },
  {
   "cell_type": "markdown",
   "metadata": {},
   "source": [
    "shortcuts of jupyter-notebook\n",
    "\n",
    "- swith modes\n",
    "    - **Enter**: Cmd Mode->Edit Mode\n",
    "    - **Esc**: Edit Mode->Cmd Mode\n",
    "    - **h**: show shortcuts (in Cmd Mode)\n",
    "    \n",
    "- common shortcuts:\n",
    "    - **Ctrl+Enter**: run cell\n",
    "    - **Shift+Enter**: run cell, select below\n",
    "    - **Alt+Enter**: run cell, insert below\n",
    "    - **Ctrl+s**: save and checkpoint\n",
    "\n",
    "- Cmd mode shortcuts:\n",
    "    - **y**: to code; **m**: to markdown; **1,2,3,4,5,6**: to heading\n",
    "    - **dd**: delete selected cell; **z**: undo cell deletion\n",
    "    - **x**: cut selected cell; **c**: copy selected cell; **v**: paste selected cell\n",
    "    - **a/b**: insert cell above/below\n",
    "    - **l**: toggle line number; **o**: toggle output\n",
    "- Edit mode shortcuts:\n",
    "    - **Ctrl+/**: toggle comments\n",
    "    - **Ctrl+Shift+-**: split cell at cursor\n",
    "    - **Ctrl-z**: undo; **Ctrl+y**: redo"
   ]
  },
  {
   "cell_type": "markdown",
   "metadata": {},
   "source": [
    "## playgroud"
   ]
  },
  {
   "cell_type": "code",
   "execution_count": 2,
   "metadata": {},
   "outputs": [
    {
     "name": "stdout",
     "output_type": "stream",
     "text": [
      "10 loops, best of 3: 123 ns per loop\n"
     ]
    }
   ],
   "source": [
    "%timeit -n 10 1+1"
   ]
  }
 ],
 "metadata": {
  "kernelspec": {
   "display_name": "Python 2",
   "language": "python",
   "name": "python2"
  },
  "language_info": {
   "codemirror_mode": {
    "name": "ipython",
    "version": 2
   },
   "file_extension": ".py",
   "mimetype": "text/x-python",
   "name": "python",
   "nbconvert_exporter": "python",
   "pygments_lexer": "ipython2",
   "version": "2.7.14"
  }
 },
 "nbformat": 4,
 "nbformat_minor": 2
}
