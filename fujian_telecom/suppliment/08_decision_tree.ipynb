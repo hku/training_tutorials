{
 "cells": [
  {
   "cell_type": "markdown",
   "metadata": {},
   "source": [
    "# Tutorial_09:  Decision Trees and Random Forests （决策树和随机森林）"
   ]
  },
  {
   "cell_type": "code",
   "execution_count": 12,
   "metadata": {
    "collapsed": true
   },
   "outputs": [],
   "source": [
    "%matplotlib inline"
   ]
  },
  {
   "cell_type": "markdown",
   "metadata": {},
   "source": [
    "## 1. 决策树\n",
    "\n",
    "例子1： ![dt_1](images/dt_1.jpg)\n",
    "\n",
    "**top-down, greedy search from root to leaf**\n",
    "\n",
    "例子2：“你答我猜”的游戏：不断根据问题过滤候选答案，直到游戏结束（leaf）\n",
    "\n",
    "** 怎样问最合适的问题？**\n",
    "\n",
    "例子3：\n",
    "\n",
    " 主演  |   类型   |  卖座\n",
    "-------| ---------- | --------\n",
    "汤姆·克鲁斯    | 动作 | Y\n",
    "汤姆·克鲁斯   | 奇幻 | Y\n",
    "汤姆·克鲁斯   | 爱情 | N\n",
    "汤姆·克鲁斯    | 动作 | Y \n",
    "艾玛·罗伯茨    | 动作 | N\n",
    "艾玛·罗伯茨    | 奇幻 | N\n",
    "艾玛·罗伯茨    | 爱情 | Y\n",
    "\n",
    "![dt_2](images/dt_2.jpg)\n",
    "\n",
    "**判据1： entropy & information gain**\n",
    "\n",
    "问完问题后，系统越确定越好(剩余的熵越小越好)\n",
    "\n",
    "$$S_{\\rm root} = -(4/7)\\ln(4/7) - (3/7)\\ln(3/7) = 0.68$$\n",
    "\n",
    "分类决策1：\n",
    "\n",
    "$$ \\begin{align}S_L &= -0.75\\ln0.75-0.25\\ln0.25=0.56\\\\\n",
    "S_R&=-(1/3)\\ln(1/3) -(2/3)\\ln(2/3) = 0.63 \n",
    "\\end{align}$$\n",
    "\n",
    "$$S^\\prime= (4/7)S_L + (3/7)S_R = 0.59,\\qquad IG=0.68 - 0.59 = 0.09$$\n",
    "\n",
    "\n",
    "分类决策2：\n",
    "\n",
    "$$\\begin{align}\n",
    "S_L&=-(1/3)\\ln(1/3) -(2/3)\\ln(2/3) = 0.63 \\\\\n",
    "S_M&=-(1/2)\\ln(1/2) -(1/2)\\ln(1/2) = 0.69 \\\\\n",
    "S_R&=-(1/2)\\ln(1/2) -(1/2)\\ln(1/2) = 0.69 \\\\\n",
    "\\end{align}$$\n",
    "\n",
    "$$S^\\prime = (3/7)S_L + (2/7)S_M + (2/7)S_R = 0.66,\\qquad IG=0.68 - 0.66 = 0.02$$\n",
    "\n",
    "**判据2： Gini Index**\n",
    "\n",
    "问完问题后，误判的概率越小越好\n",
    "\n",
    "$${\\rm Gini}= \\sum_ip_i(1-p_i) = 1-\\sum_i p_i^2$$\n",
    "\n",
    "$${\\rm Gini} = 1 - (4/7)^2 - (3/7)^2 = 0.49$$\n",
    "\n",
    "分类决策1：\n",
    "$$ \\begin{align}\n",
    "{\\rm Gini}_L &= 1-(3/4)^2 - (1/4)^2\\\\\n",
    "{\\rm Gini}_R&= 1- (1/3)^2 - (2/3)^2\n",
    "\\end{align}$$\n",
    "\n",
    "$${\\rm Gini}^\\prime = (4/7){\\rm Gini}_L + (3/7){\\rm Gini}_R = 0.43$$\n",
    "\n",
    "\n",
    " Metrics  |   pros & cons  \n",
    "----------| ---------- \n",
    "entropy   | pros：数学更严格正式，cons: 计算相对复杂\n",
    "Gini   | pros：计算更简便，cons: 对于非二叉树，结果一般没有entropy好\n"
   ]
  },
  {
   "cell_type": "markdown",
   "metadata": {},
   "source": [
    "** 一个例子 **\n",
    "\n",
    "![iris](images/iris.jpg)"
   ]
  },
  {
   "cell_type": "code",
   "execution_count": 1,
   "metadata": {},
   "outputs": [
    {
     "name": "stdout",
     "output_type": "stream",
     "text": [
      "['sepal length (cm)', 'sepal width (cm)', 'petal length (cm)', 'petal width (cm)']\n",
      "['setosa' 'versicolor' 'virginica']\n",
      "(150L, 4L)\n",
      "(150L,)\n",
      "[50 50 50]\n"
     ]
    },
    {
     "data": {
      "text/html": [
       "<div>\n",
       "<style>\n",
       "    .dataframe thead tr:only-child th {\n",
       "        text-align: right;\n",
       "    }\n",
       "\n",
       "    .dataframe thead th {\n",
       "        text-align: left;\n",
       "    }\n",
       "\n",
       "    .dataframe tbody tr th {\n",
       "        vertical-align: top;\n",
       "    }\n",
       "</style>\n",
       "<table border=\"1\" class=\"dataframe\">\n",
       "  <thead>\n",
       "    <tr style=\"text-align: right;\">\n",
       "      <th></th>\n",
       "      <th>sepal length (cm)</th>\n",
       "      <th>sepal width (cm)</th>\n",
       "      <th>petal length (cm)</th>\n",
       "      <th>petal width (cm)</th>\n",
       "    </tr>\n",
       "  </thead>\n",
       "  <tbody>\n",
       "    <tr>\n",
       "      <th>0</th>\n",
       "      <td>5.1</td>\n",
       "      <td>3.5</td>\n",
       "      <td>1.4</td>\n",
       "      <td>0.2</td>\n",
       "    </tr>\n",
       "    <tr>\n",
       "      <th>1</th>\n",
       "      <td>4.9</td>\n",
       "      <td>3.0</td>\n",
       "      <td>1.4</td>\n",
       "      <td>0.2</td>\n",
       "    </tr>\n",
       "    <tr>\n",
       "      <th>2</th>\n",
       "      <td>4.7</td>\n",
       "      <td>3.2</td>\n",
       "      <td>1.3</td>\n",
       "      <td>0.2</td>\n",
       "    </tr>\n",
       "    <tr>\n",
       "      <th>3</th>\n",
       "      <td>4.6</td>\n",
       "      <td>3.1</td>\n",
       "      <td>1.5</td>\n",
       "      <td>0.2</td>\n",
       "    </tr>\n",
       "    <tr>\n",
       "      <th>4</th>\n",
       "      <td>5.0</td>\n",
       "      <td>3.6</td>\n",
       "      <td>1.4</td>\n",
       "      <td>0.2</td>\n",
       "    </tr>\n",
       "  </tbody>\n",
       "</table>\n",
       "</div>"
      ],
      "text/plain": [
       "   sepal length (cm)  sepal width (cm)  petal length (cm)  petal width (cm)\n",
       "0                5.1               3.5                1.4               0.2\n",
       "1                4.9               3.0                1.4               0.2\n",
       "2                4.7               3.2                1.3               0.2\n",
       "3                4.6               3.1                1.5               0.2\n",
       "4                5.0               3.6                1.4               0.2"
      ]
     },
     "execution_count": 1,
     "metadata": {},
     "output_type": "execute_result"
    }
   ],
   "source": [
    "from sklearn.datasets import load_iris\n",
    "import numpy as np\n",
    "import pandas as pd\n",
    "\n",
    "iris = load_iris()\n",
    "\n",
    "iris_df = pd.DataFrame(iris.data, columns=iris.feature_names)\n",
    "print(iris.feature_names)\n",
    "print(iris.target_names)\n",
    "print(iris.data.shape)\n",
    "print(iris.target.shape)\n",
    "print(np.bincount(iris.target))\n",
    "iris_df.head(5)"
   ]
  },
  {
   "cell_type": "code",
   "execution_count": 2,
   "metadata": {},
   "outputs": [
    {
     "name": "stderr",
     "output_type": "stream",
     "text": [
      "C:\\Users\\Lenovo\\Anaconda2\\lib\\site-packages\\sklearn\\model_selection\\_split.py:2026: FutureWarning: From version 0.21, test_size will always complement train_size unless both are specified.\n",
      "  FutureWarning)\n"
     ]
    },
    {
     "data": {
      "text/plain": [
       "0.96666666666666667"
      ]
     },
     "execution_count": 2,
     "metadata": {},
     "output_type": "execute_result"
    }
   ],
   "source": [
    "from sklearn.tree import DecisionTreeClassifier\n",
    "from sklearn.model_selection import train_test_split\n",
    "\n",
    "x_train, x_test, y_train, y_test = train_test_split(iris.data, iris.target, train_size=0.8, random_state=1)\n",
    "clf = DecisionTreeClassifier()\n",
    "\n",
    "clf = clf.fit(x_train, y_train)\n",
    "\n",
    "clf.score(x_test, y_test)\n"
   ]
  },
  {
   "cell_type": "code",
   "execution_count": 3,
   "metadata": {
    "scrolled": false
   },
   "outputs": [
    {
     "data": {
      "image/svg+xml": [
       "<?xml version=\"1.0\" encoding=\"UTF-8\" standalone=\"no\"?>\r\n",
       "<!DOCTYPE svg PUBLIC \"-//W3C//DTD SVG 1.1//EN\"\r\n",
       " \"http://www.w3.org/Graphics/SVG/1.1/DTD/svg11.dtd\">\r\n",
       "<!-- Generated by graphviz version 2.38.0 (20140413.2041)\r\n",
       " -->\r\n",
       "<!-- Title: Tree Pages: 1 -->\r\n",
       "<svg width=\"680pt\" height=\"671pt\"\r\n",
       " viewBox=\"0.00 0.00 679.50 671.00\" xmlns=\"http://www.w3.org/2000/svg\" xmlns:xlink=\"http://www.w3.org/1999/xlink\">\r\n",
       "<g id=\"graph0\" class=\"graph\" transform=\"scale(1 1) rotate(0) translate(4 667)\">\r\n",
       "<title>Tree</title>\r\n",
       "<polygon fill=\"white\" stroke=\"none\" points=\"-4,4 -4,-667 675.5,-667 675.5,4 -4,4\"/>\r\n",
       "<!-- 0 -->\r\n",
       "<g id=\"node1\" class=\"node\"><title>0</title>\r\n",
       "<path fill=\"#8139e5\" fill-opacity=\"0.062745\" stroke=\"black\" d=\"M351.5,-663C351.5,-663 218.5,-663 218.5,-663 212.5,-663 206.5,-657 206.5,-651 206.5,-651 206.5,-592 206.5,-592 206.5,-586 212.5,-580 218.5,-580 218.5,-580 351.5,-580 351.5,-580 357.5,-580 363.5,-586 363.5,-592 363.5,-592 363.5,-651 363.5,-651 363.5,-657 357.5,-663 351.5,-663\"/>\r\n",
       "<text text-anchor=\"start\" x=\"214.5\" y=\"-647.8\" font-family=\"Helvetica,sans-Serif\" font-size=\"14.00\">petal length (cm) ≤ 2.6</text>\r\n",
       "<text text-anchor=\"start\" x=\"247.5\" y=\"-632.8\" font-family=\"Helvetica,sans-Serif\" font-size=\"14.00\">gini = 0.665</text>\r\n",
       "<text text-anchor=\"start\" x=\"237.5\" y=\"-617.8\" font-family=\"Helvetica,sans-Serif\" font-size=\"14.00\">samples = 120</text>\r\n",
       "<text text-anchor=\"start\" x=\"224.5\" y=\"-602.8\" font-family=\"Helvetica,sans-Serif\" font-size=\"14.00\">value = [39, 37, 44]</text>\r\n",
       "<text text-anchor=\"start\" x=\"235\" y=\"-587.8\" font-family=\"Helvetica,sans-Serif\" font-size=\"14.00\">class = virginica</text>\r\n",
       "</g>\r\n",
       "<!-- 1 -->\r\n",
       "<g id=\"node2\" class=\"node\"><title>1</title>\r\n",
       "<path fill=\"#e58139\" stroke=\"black\" d=\"M254.5,-536.5C254.5,-536.5 157.5,-536.5 157.5,-536.5 151.5,-536.5 145.5,-530.5 145.5,-524.5 145.5,-524.5 145.5,-480.5 145.5,-480.5 145.5,-474.5 151.5,-468.5 157.5,-468.5 157.5,-468.5 254.5,-468.5 254.5,-468.5 260.5,-468.5 266.5,-474.5 266.5,-480.5 266.5,-480.5 266.5,-524.5 266.5,-524.5 266.5,-530.5 260.5,-536.5 254.5,-536.5\"/>\r\n",
       "<text text-anchor=\"start\" x=\"177\" y=\"-521.3\" font-family=\"Helvetica,sans-Serif\" font-size=\"14.00\">gini = 0.0</text>\r\n",
       "<text text-anchor=\"start\" x=\"162.5\" y=\"-506.3\" font-family=\"Helvetica,sans-Serif\" font-size=\"14.00\">samples = 39</text>\r\n",
       "<text text-anchor=\"start\" x=\"153.5\" y=\"-491.3\" font-family=\"Helvetica,sans-Serif\" font-size=\"14.00\">value = [39, 0, 0]</text>\r\n",
       "<text text-anchor=\"start\" x=\"160\" y=\"-476.3\" font-family=\"Helvetica,sans-Serif\" font-size=\"14.00\">class = setosa</text>\r\n",
       "</g>\r\n",
       "<!-- 0&#45;&gt;1 -->\r\n",
       "<g id=\"edge1\" class=\"edge\"><title>0&#45;&gt;1</title>\r\n",
       "<path fill=\"none\" stroke=\"black\" d=\"M257.591,-579.907C249.992,-568.652 241.731,-556.418 234.093,-545.106\"/>\r\n",
       "<polygon fill=\"black\" stroke=\"black\" points=\"236.891,-542.996 228.395,-536.667 231.09,-546.913 236.891,-542.996\"/>\r\n",
       "<text text-anchor=\"middle\" x=\"223.636\" y=\"-557.51\" font-family=\"Helvetica,sans-Serif\" font-size=\"14.00\">True</text>\r\n",
       "</g>\r\n",
       "<!-- 2 -->\r\n",
       "<g id=\"node3\" class=\"node\"><title>2</title>\r\n",
       "<path fill=\"#8139e5\" fill-opacity=\"0.160784\" stroke=\"black\" d=\"M431.5,-544C431.5,-544 296.5,-544 296.5,-544 290.5,-544 284.5,-538 284.5,-532 284.5,-532 284.5,-473 284.5,-473 284.5,-467 290.5,-461 296.5,-461 296.5,-461 431.5,-461 431.5,-461 437.5,-461 443.5,-467 443.5,-473 443.5,-473 443.5,-532 443.5,-532 443.5,-538 437.5,-544 431.5,-544\"/>\r\n",
       "<text text-anchor=\"start\" x=\"292.5\" y=\"-528.8\" font-family=\"Helvetica,sans-Serif\" font-size=\"14.00\">petal width (cm) ≤ 1.65</text>\r\n",
       "<text text-anchor=\"start\" x=\"326.5\" y=\"-513.8\" font-family=\"Helvetica,sans-Serif\" font-size=\"14.00\">gini = 0.496</text>\r\n",
       "<text text-anchor=\"start\" x=\"320.5\" y=\"-498.8\" font-family=\"Helvetica,sans-Serif\" font-size=\"14.00\">samples = 81</text>\r\n",
       "<text text-anchor=\"start\" x=\"307.5\" y=\"-483.8\" font-family=\"Helvetica,sans-Serif\" font-size=\"14.00\">value = [0, 37, 44]</text>\r\n",
       "<text text-anchor=\"start\" x=\"314\" y=\"-468.8\" font-family=\"Helvetica,sans-Serif\" font-size=\"14.00\">class = virginica</text>\r\n",
       "</g>\r\n",
       "<!-- 0&#45;&gt;2 -->\r\n",
       "<g id=\"edge2\" class=\"edge\"><title>0&#45;&gt;2</title>\r\n",
       "<path fill=\"none\" stroke=\"black\" d=\"M312.409,-579.907C318.414,-571.014 324.831,-561.509 331.029,-552.331\"/>\r\n",
       "<polygon fill=\"black\" stroke=\"black\" points=\"333.944,-554.267 336.64,-544.021 328.143,-550.35 333.944,-554.267\"/>\r\n",
       "<text text-anchor=\"middle\" x=\"341.398\" y=\"-564.864\" font-family=\"Helvetica,sans-Serif\" font-size=\"14.00\">False</text>\r\n",
       "</g>\r\n",
       "<!-- 3 -->\r\n",
       "<g id=\"node4\" class=\"node\"><title>3</title>\r\n",
       "<path fill=\"#39e581\" fill-opacity=\"0.890196\" stroke=\"black\" d=\"M343.5,-425C343.5,-425 202.5,-425 202.5,-425 196.5,-425 190.5,-419 190.5,-413 190.5,-413 190.5,-354 190.5,-354 190.5,-348 196.5,-342 202.5,-342 202.5,-342 343.5,-342 343.5,-342 349.5,-342 355.5,-348 355.5,-354 355.5,-354 355.5,-413 355.5,-413 355.5,-419 349.5,-425 343.5,-425\"/>\r\n",
       "<text text-anchor=\"start\" x=\"198.5\" y=\"-409.8\" font-family=\"Helvetica,sans-Serif\" font-size=\"14.00\">petal length (cm) ≤ 4.95</text>\r\n",
       "<text text-anchor=\"start\" x=\"239.5\" y=\"-394.8\" font-family=\"Helvetica,sans-Serif\" font-size=\"14.00\">gini = 0.18</text>\r\n",
       "<text text-anchor=\"start\" x=\"229.5\" y=\"-379.8\" font-family=\"Helvetica,sans-Serif\" font-size=\"14.00\">samples = 40</text>\r\n",
       "<text text-anchor=\"start\" x=\"220.5\" y=\"-364.8\" font-family=\"Helvetica,sans-Serif\" font-size=\"14.00\">value = [0, 36, 4]</text>\r\n",
       "<text text-anchor=\"start\" x=\"217.5\" y=\"-349.8\" font-family=\"Helvetica,sans-Serif\" font-size=\"14.00\">class = versicolor</text>\r\n",
       "</g>\r\n",
       "<!-- 2&#45;&gt;3 -->\r\n",
       "<g id=\"edge3\" class=\"edge\"><title>2&#45;&gt;3</title>\r\n",
       "<path fill=\"none\" stroke=\"black\" d=\"M332.428,-460.907C325.44,-451.923 317.967,-442.315 310.761,-433.05\"/>\r\n",
       "<polygon fill=\"black\" stroke=\"black\" points=\"313.418,-430.766 304.516,-425.021 307.893,-435.063 313.418,-430.766\"/>\r\n",
       "</g>\r\n",
       "<!-- 10 -->\r\n",
       "<g id=\"node11\" class=\"node\"><title>10</title>\r\n",
       "<path fill=\"#8139e5\" fill-opacity=\"0.976471\" stroke=\"black\" d=\"M526.5,-425C526.5,-425 385.5,-425 385.5,-425 379.5,-425 373.5,-419 373.5,-413 373.5,-413 373.5,-354 373.5,-354 373.5,-348 379.5,-342 385.5,-342 385.5,-342 526.5,-342 526.5,-342 532.5,-342 538.5,-348 538.5,-354 538.5,-354 538.5,-413 538.5,-413 538.5,-419 532.5,-425 526.5,-425\"/>\r\n",
       "<text text-anchor=\"start\" x=\"381.5\" y=\"-409.8\" font-family=\"Helvetica,sans-Serif\" font-size=\"14.00\">petal length (cm) ≤ 4.85</text>\r\n",
       "<text text-anchor=\"start\" x=\"418.5\" y=\"-394.8\" font-family=\"Helvetica,sans-Serif\" font-size=\"14.00\">gini = 0.048</text>\r\n",
       "<text text-anchor=\"start\" x=\"412.5\" y=\"-379.8\" font-family=\"Helvetica,sans-Serif\" font-size=\"14.00\">samples = 41</text>\r\n",
       "<text text-anchor=\"start\" x=\"403.5\" y=\"-364.8\" font-family=\"Helvetica,sans-Serif\" font-size=\"14.00\">value = [0, 1, 40]</text>\r\n",
       "<text text-anchor=\"start\" x=\"406\" y=\"-349.8\" font-family=\"Helvetica,sans-Serif\" font-size=\"14.00\">class = virginica</text>\r\n",
       "</g>\r\n",
       "<!-- 2&#45;&gt;10 -->\r\n",
       "<g id=\"edge10\" class=\"edge\"><title>2&#45;&gt;10</title>\r\n",
       "<path fill=\"none\" stroke=\"black\" d=\"M395.919,-460.907C402.984,-451.923 410.539,-442.315 417.824,-433.05\"/>\r\n",
       "<polygon fill=\"black\" stroke=\"black\" points=\"420.708,-435.045 424.137,-425.021 415.205,-430.718 420.708,-435.045\"/>\r\n",
       "</g>\r\n",
       "<!-- 4 -->\r\n",
       "<g id=\"node5\" class=\"node\"><title>4</title>\r\n",
       "<path fill=\"#39e581\" stroke=\"black\" d=\"M159.5,-298.5C159.5,-298.5 56.5,-298.5 56.5,-298.5 50.5,-298.5 44.5,-292.5 44.5,-286.5 44.5,-286.5 44.5,-242.5 44.5,-242.5 44.5,-236.5 50.5,-230.5 56.5,-230.5 56.5,-230.5 159.5,-230.5 159.5,-230.5 165.5,-230.5 171.5,-236.5 171.5,-242.5 171.5,-242.5 171.5,-286.5 171.5,-286.5 171.5,-292.5 165.5,-298.5 159.5,-298.5\"/>\r\n",
       "<text text-anchor=\"start\" x=\"79\" y=\"-283.3\" font-family=\"Helvetica,sans-Serif\" font-size=\"14.00\">gini = 0.0</text>\r\n",
       "<text text-anchor=\"start\" x=\"64.5\" y=\"-268.3\" font-family=\"Helvetica,sans-Serif\" font-size=\"14.00\">samples = 35</text>\r\n",
       "<text text-anchor=\"start\" x=\"55.5\" y=\"-253.3\" font-family=\"Helvetica,sans-Serif\" font-size=\"14.00\">value = [0, 35, 0]</text>\r\n",
       "<text text-anchor=\"start\" x=\"52.5\" y=\"-238.3\" font-family=\"Helvetica,sans-Serif\" font-size=\"14.00\">class = versicolor</text>\r\n",
       "</g>\r\n",
       "<!-- 3&#45;&gt;4 -->\r\n",
       "<g id=\"edge4\" class=\"edge\"><title>3&#45;&gt;4</title>\r\n",
       "<path fill=\"none\" stroke=\"black\" d=\"M215.754,-341.907C198.636,-329.769 179.914,-316.493 162.947,-304.462\"/>\r\n",
       "<polygon fill=\"black\" stroke=\"black\" points=\"164.956,-301.596 154.774,-298.667 160.907,-307.306 164.956,-301.596\"/>\r\n",
       "</g>\r\n",
       "<!-- 5 -->\r\n",
       "<g id=\"node6\" class=\"node\"><title>5</title>\r\n",
       "<path fill=\"#8139e5\" fill-opacity=\"0.749020\" stroke=\"black\" d=\"M346.5,-306C346.5,-306 201.5,-306 201.5,-306 195.5,-306 189.5,-300 189.5,-294 189.5,-294 189.5,-235 189.5,-235 189.5,-229 195.5,-223 201.5,-223 201.5,-223 346.5,-223 346.5,-223 352.5,-223 358.5,-229 358.5,-235 358.5,-235 358.5,-294 358.5,-294 358.5,-300 352.5,-306 346.5,-306\"/>\r\n",
       "<text text-anchor=\"start\" x=\"197.5\" y=\"-290.8\" font-family=\"Helvetica,sans-Serif\" font-size=\"14.00\">sepal length (cm) ≤ 6.05</text>\r\n",
       "<text text-anchor=\"start\" x=\"240.5\" y=\"-275.8\" font-family=\"Helvetica,sans-Serif\" font-size=\"14.00\">gini = 0.32</text>\r\n",
       "<text text-anchor=\"start\" x=\"234.5\" y=\"-260.8\" font-family=\"Helvetica,sans-Serif\" font-size=\"14.00\">samples = 5</text>\r\n",
       "<text text-anchor=\"start\" x=\"225.5\" y=\"-245.8\" font-family=\"Helvetica,sans-Serif\" font-size=\"14.00\">value = [0, 1, 4]</text>\r\n",
       "<text text-anchor=\"start\" x=\"224\" y=\"-230.8\" font-family=\"Helvetica,sans-Serif\" font-size=\"14.00\">class = virginica</text>\r\n",
       "</g>\r\n",
       "<!-- 3&#45;&gt;5 -->\r\n",
       "<g id=\"edge5\" class=\"edge\"><title>3&#45;&gt;5</title>\r\n",
       "<path fill=\"none\" stroke=\"black\" d=\"M273.347,-341.907C273.418,-333.649 273.493,-324.864 273.566,-316.302\"/>\r\n",
       "<polygon fill=\"black\" stroke=\"black\" points=\"277.068,-316.05 273.654,-306.021 270.068,-315.99 277.068,-316.05\"/>\r\n",
       "</g>\r\n",
       "<!-- 6 -->\r\n",
       "<g id=\"node7\" class=\"node\"><title>6</title>\r\n",
       "<path fill=\"none\" stroke=\"black\" d=\"M197.5,-187C197.5,-187 58.5,-187 58.5,-187 52.5,-187 46.5,-181 46.5,-175 46.5,-175 46.5,-116 46.5,-116 46.5,-110 52.5,-104 58.5,-104 58.5,-104 197.5,-104 197.5,-104 203.5,-104 209.5,-110 209.5,-116 209.5,-116 209.5,-175 209.5,-175 209.5,-181 203.5,-187 197.5,-187\"/>\r\n",
       "<text text-anchor=\"start\" x=\"54.5\" y=\"-171.8\" font-family=\"Helvetica,sans-Serif\" font-size=\"14.00\">sepal width (cm) ≤ 2.45</text>\r\n",
       "<text text-anchor=\"start\" x=\"99\" y=\"-156.8\" font-family=\"Helvetica,sans-Serif\" font-size=\"14.00\">gini = 0.5</text>\r\n",
       "<text text-anchor=\"start\" x=\"88.5\" y=\"-141.8\" font-family=\"Helvetica,sans-Serif\" font-size=\"14.00\">samples = 2</text>\r\n",
       "<text text-anchor=\"start\" x=\"79.5\" y=\"-126.8\" font-family=\"Helvetica,sans-Serif\" font-size=\"14.00\">value = [0, 1, 1]</text>\r\n",
       "<text text-anchor=\"start\" x=\"72.5\" y=\"-111.8\" font-family=\"Helvetica,sans-Serif\" font-size=\"14.00\">class = versicolor</text>\r\n",
       "</g>\r\n",
       "<!-- 5&#45;&gt;6 -->\r\n",
       "<g id=\"edge6\" class=\"edge\"><title>5&#45;&gt;6</title>\r\n",
       "<path fill=\"none\" stroke=\"black\" d=\"M223.346,-222.907C211.455,-213.379 198.689,-203.148 186.487,-193.37\"/>\r\n",
       "<polygon fill=\"black\" stroke=\"black\" points=\"188.557,-190.543 178.564,-187.021 184.179,-196.006 188.557,-190.543\"/>\r\n",
       "</g>\r\n",
       "<!-- 9 -->\r\n",
       "<g id=\"node10\" class=\"node\"><title>9</title>\r\n",
       "<path fill=\"#8139e5\" stroke=\"black\" d=\"M332,-179.5C332,-179.5 240,-179.5 240,-179.5 234,-179.5 228,-173.5 228,-167.5 228,-167.5 228,-123.5 228,-123.5 228,-117.5 234,-111.5 240,-111.5 240,-111.5 332,-111.5 332,-111.5 338,-111.5 344,-117.5 344,-123.5 344,-123.5 344,-167.5 344,-167.5 344,-173.5 338,-179.5 332,-179.5\"/>\r\n",
       "<text text-anchor=\"start\" x=\"257\" y=\"-164.3\" font-family=\"Helvetica,sans-Serif\" font-size=\"14.00\">gini = 0.0</text>\r\n",
       "<text text-anchor=\"start\" x=\"246.5\" y=\"-149.3\" font-family=\"Helvetica,sans-Serif\" font-size=\"14.00\">samples = 3</text>\r\n",
       "<text text-anchor=\"start\" x=\"237.5\" y=\"-134.3\" font-family=\"Helvetica,sans-Serif\" font-size=\"14.00\">value = [0, 0, 3]</text>\r\n",
       "<text text-anchor=\"start\" x=\"236\" y=\"-119.3\" font-family=\"Helvetica,sans-Serif\" font-size=\"14.00\">class = virginica</text>\r\n",
       "</g>\r\n",
       "<!-- 5&#45;&gt;9 -->\r\n",
       "<g id=\"edge9\" class=\"edge\"><title>5&#45;&gt;9</title>\r\n",
       "<path fill=\"none\" stroke=\"black\" d=\"M278.163,-222.907C279.261,-212.204 280.45,-200.615 281.561,-189.776\"/>\r\n",
       "<polygon fill=\"black\" stroke=\"black\" points=\"285.06,-189.972 282.598,-179.667 278.096,-189.258 285.06,-189.972\"/>\r\n",
       "</g>\r\n",
       "<!-- 7 -->\r\n",
       "<g id=\"node8\" class=\"node\"><title>7</title>\r\n",
       "<path fill=\"#8139e5\" stroke=\"black\" d=\"M104,-68C104,-68 12,-68 12,-68 6,-68 0,-62 0,-56 0,-56 0,-12 0,-12 0,-6 6,-0 12,-0 12,-0 104,-0 104,-0 110,-0 116,-6 116,-12 116,-12 116,-56 116,-56 116,-62 110,-68 104,-68\"/>\r\n",
       "<text text-anchor=\"start\" x=\"29\" y=\"-52.8\" font-family=\"Helvetica,sans-Serif\" font-size=\"14.00\">gini = 0.0</text>\r\n",
       "<text text-anchor=\"start\" x=\"18.5\" y=\"-37.8\" font-family=\"Helvetica,sans-Serif\" font-size=\"14.00\">samples = 1</text>\r\n",
       "<text text-anchor=\"start\" x=\"9.5\" y=\"-22.8\" font-family=\"Helvetica,sans-Serif\" font-size=\"14.00\">value = [0, 0, 1]</text>\r\n",
       "<text text-anchor=\"start\" x=\"8\" y=\"-7.8\" font-family=\"Helvetica,sans-Serif\" font-size=\"14.00\">class = virginica</text>\r\n",
       "</g>\r\n",
       "<!-- 6&#45;&gt;7 -->\r\n",
       "<g id=\"edge7\" class=\"edge\"><title>6&#45;&gt;7</title>\r\n",
       "<path fill=\"none\" stroke=\"black\" d=\"M101.935,-103.726C96.3371,-94.9703 90.413,-85.7032 84.7886,-76.9051\"/>\r\n",
       "<polygon fill=\"black\" stroke=\"black\" points=\"87.6226,-74.8399 79.2874,-68.2996 81.7247,-78.6103 87.6226,-74.8399\"/>\r\n",
       "</g>\r\n",
       "<!-- 8 -->\r\n",
       "<g id=\"node9\" class=\"node\"><title>8</title>\r\n",
       "<path fill=\"#39e581\" stroke=\"black\" d=\"M249.5,-68C249.5,-68 146.5,-68 146.5,-68 140.5,-68 134.5,-62 134.5,-56 134.5,-56 134.5,-12 134.5,-12 134.5,-6 140.5,-0 146.5,-0 146.5,-0 249.5,-0 249.5,-0 255.5,-0 261.5,-6 261.5,-12 261.5,-12 261.5,-56 261.5,-56 261.5,-62 255.5,-68 249.5,-68\"/>\r\n",
       "<text text-anchor=\"start\" x=\"169\" y=\"-52.8\" font-family=\"Helvetica,sans-Serif\" font-size=\"14.00\">gini = 0.0</text>\r\n",
       "<text text-anchor=\"start\" x=\"158.5\" y=\"-37.8\" font-family=\"Helvetica,sans-Serif\" font-size=\"14.00\">samples = 1</text>\r\n",
       "<text text-anchor=\"start\" x=\"149.5\" y=\"-22.8\" font-family=\"Helvetica,sans-Serif\" font-size=\"14.00\">value = [0, 1, 0]</text>\r\n",
       "<text text-anchor=\"start\" x=\"142.5\" y=\"-7.8\" font-family=\"Helvetica,sans-Serif\" font-size=\"14.00\">class = versicolor</text>\r\n",
       "</g>\r\n",
       "<!-- 6&#45;&gt;8 -->\r\n",
       "<g id=\"edge8\" class=\"edge\"><title>6&#45;&gt;8</title>\r\n",
       "<path fill=\"none\" stroke=\"black\" d=\"M154.065,-103.726C159.663,-94.9703 165.587,-85.7032 171.211,-76.9051\"/>\r\n",
       "<polygon fill=\"black\" stroke=\"black\" points=\"174.275,-78.6103 176.713,-68.2996 168.377,-74.8399 174.275,-78.6103\"/>\r\n",
       "</g>\r\n",
       "<!-- 11 -->\r\n",
       "<g id=\"node12\" class=\"node\"><title>11</title>\r\n",
       "<path fill=\"#8139e5\" fill-opacity=\"0.666667\" stroke=\"black\" d=\"M520.5,-306C520.5,-306 389.5,-306 389.5,-306 383.5,-306 377.5,-300 377.5,-294 377.5,-294 377.5,-235 377.5,-235 377.5,-229 383.5,-223 389.5,-223 389.5,-223 520.5,-223 520.5,-223 526.5,-223 532.5,-229 532.5,-235 532.5,-235 532.5,-294 532.5,-294 532.5,-300 526.5,-306 520.5,-306\"/>\r\n",
       "<text text-anchor=\"start\" x=\"385.5\" y=\"-290.8\" font-family=\"Helvetica,sans-Serif\" font-size=\"14.00\">sepal width (cm) ≤ 3.1</text>\r\n",
       "<text text-anchor=\"start\" x=\"417.5\" y=\"-275.8\" font-family=\"Helvetica,sans-Serif\" font-size=\"14.00\">gini = 0.375</text>\r\n",
       "<text text-anchor=\"start\" x=\"415.5\" y=\"-260.8\" font-family=\"Helvetica,sans-Serif\" font-size=\"14.00\">samples = 4</text>\r\n",
       "<text text-anchor=\"start\" x=\"406.5\" y=\"-245.8\" font-family=\"Helvetica,sans-Serif\" font-size=\"14.00\">value = [0, 1, 3]</text>\r\n",
       "<text text-anchor=\"start\" x=\"405\" y=\"-230.8\" font-family=\"Helvetica,sans-Serif\" font-size=\"14.00\">class = virginica</text>\r\n",
       "</g>\r\n",
       "<!-- 10&#45;&gt;11 -->\r\n",
       "<g id=\"edge11\" class=\"edge\"><title>10&#45;&gt;11</title>\r\n",
       "<path fill=\"none\" stroke=\"black\" d=\"M455.653,-341.907C455.582,-333.649 455.507,-324.864 455.434,-316.302\"/>\r\n",
       "<polygon fill=\"black\" stroke=\"black\" points=\"458.932,-315.99 455.346,-306.021 451.932,-316.05 458.932,-315.99\"/>\r\n",
       "</g>\r\n",
       "<!-- 14 -->\r\n",
       "<g id=\"node15\" class=\"node\"><title>14</title>\r\n",
       "<path fill=\"#8139e5\" stroke=\"black\" d=\"M659.5,-298.5C659.5,-298.5 562.5,-298.5 562.5,-298.5 556.5,-298.5 550.5,-292.5 550.5,-286.5 550.5,-286.5 550.5,-242.5 550.5,-242.5 550.5,-236.5 556.5,-230.5 562.5,-230.5 562.5,-230.5 659.5,-230.5 659.5,-230.5 665.5,-230.5 671.5,-236.5 671.5,-242.5 671.5,-242.5 671.5,-286.5 671.5,-286.5 671.5,-292.5 665.5,-298.5 659.5,-298.5\"/>\r\n",
       "<text text-anchor=\"start\" x=\"582\" y=\"-283.3\" font-family=\"Helvetica,sans-Serif\" font-size=\"14.00\">gini = 0.0</text>\r\n",
       "<text text-anchor=\"start\" x=\"567.5\" y=\"-268.3\" font-family=\"Helvetica,sans-Serif\" font-size=\"14.00\">samples = 37</text>\r\n",
       "<text text-anchor=\"start\" x=\"558.5\" y=\"-253.3\" font-family=\"Helvetica,sans-Serif\" font-size=\"14.00\">value = [0, 0, 37]</text>\r\n",
       "<text text-anchor=\"start\" x=\"561\" y=\"-238.3\" font-family=\"Helvetica,sans-Serif\" font-size=\"14.00\">class = virginica</text>\r\n",
       "</g>\r\n",
       "<!-- 10&#45;&gt;14 -->\r\n",
       "<g id=\"edge14\" class=\"edge\"><title>10&#45;&gt;14</title>\r\n",
       "<path fill=\"none\" stroke=\"black\" d=\"M509.776,-341.907C525.71,-329.88 543.125,-316.735 558.948,-304.791\"/>\r\n",
       "<polygon fill=\"black\" stroke=\"black\" points=\"561.188,-307.485 567.061,-298.667 556.971,-301.898 561.188,-307.485\"/>\r\n",
       "</g>\r\n",
       "<!-- 12 -->\r\n",
       "<g id=\"node13\" class=\"node\"><title>12</title>\r\n",
       "<path fill=\"#8139e5\" stroke=\"black\" d=\"M489,-179.5C489,-179.5 397,-179.5 397,-179.5 391,-179.5 385,-173.5 385,-167.5 385,-167.5 385,-123.5 385,-123.5 385,-117.5 391,-111.5 397,-111.5 397,-111.5 489,-111.5 489,-111.5 495,-111.5 501,-117.5 501,-123.5 501,-123.5 501,-167.5 501,-167.5 501,-173.5 495,-179.5 489,-179.5\"/>\r\n",
       "<text text-anchor=\"start\" x=\"414\" y=\"-164.3\" font-family=\"Helvetica,sans-Serif\" font-size=\"14.00\">gini = 0.0</text>\r\n",
       "<text text-anchor=\"start\" x=\"403.5\" y=\"-149.3\" font-family=\"Helvetica,sans-Serif\" font-size=\"14.00\">samples = 3</text>\r\n",
       "<text text-anchor=\"start\" x=\"394.5\" y=\"-134.3\" font-family=\"Helvetica,sans-Serif\" font-size=\"14.00\">value = [0, 0, 3]</text>\r\n",
       "<text text-anchor=\"start\" x=\"393\" y=\"-119.3\" font-family=\"Helvetica,sans-Serif\" font-size=\"14.00\">class = virginica</text>\r\n",
       "</g>\r\n",
       "<!-- 11&#45;&gt;12 -->\r\n",
       "<g id=\"edge12\" class=\"edge\"><title>11&#45;&gt;12</title>\r\n",
       "<path fill=\"none\" stroke=\"black\" d=\"M450.837,-222.907C449.739,-212.204 448.55,-200.615 447.439,-189.776\"/>\r\n",
       "<polygon fill=\"black\" stroke=\"black\" points=\"450.904,-189.258 446.402,-179.667 443.94,-189.972 450.904,-189.258\"/>\r\n",
       "</g>\r\n",
       "<!-- 13 -->\r\n",
       "<g id=\"node14\" class=\"node\"><title>13</title>\r\n",
       "<path fill=\"#39e581\" stroke=\"black\" d=\"M634.5,-179.5C634.5,-179.5 531.5,-179.5 531.5,-179.5 525.5,-179.5 519.5,-173.5 519.5,-167.5 519.5,-167.5 519.5,-123.5 519.5,-123.5 519.5,-117.5 525.5,-111.5 531.5,-111.5 531.5,-111.5 634.5,-111.5 634.5,-111.5 640.5,-111.5 646.5,-117.5 646.5,-123.5 646.5,-123.5 646.5,-167.5 646.5,-167.5 646.5,-173.5 640.5,-179.5 634.5,-179.5\"/>\r\n",
       "<text text-anchor=\"start\" x=\"554\" y=\"-164.3\" font-family=\"Helvetica,sans-Serif\" font-size=\"14.00\">gini = 0.0</text>\r\n",
       "<text text-anchor=\"start\" x=\"543.5\" y=\"-149.3\" font-family=\"Helvetica,sans-Serif\" font-size=\"14.00\">samples = 1</text>\r\n",
       "<text text-anchor=\"start\" x=\"534.5\" y=\"-134.3\" font-family=\"Helvetica,sans-Serif\" font-size=\"14.00\">value = [0, 1, 0]</text>\r\n",
       "<text text-anchor=\"start\" x=\"527.5\" y=\"-119.3\" font-family=\"Helvetica,sans-Serif\" font-size=\"14.00\">class = versicolor</text>\r\n",
       "</g>\r\n",
       "<!-- 11&#45;&gt;13 -->\r\n",
       "<g id=\"edge13\" class=\"edge\"><title>11&#45;&gt;13</title>\r\n",
       "<path fill=\"none\" stroke=\"black\" d=\"M499.409,-222.907C512.326,-211.101 526.421,-198.217 539.295,-186.45\"/>\r\n",
       "<polygon fill=\"black\" stroke=\"black\" points=\"541.695,-188.997 546.715,-179.667 536.972,-183.83 541.695,-188.997\"/>\r\n",
       "</g>\r\n",
       "</g>\r\n",
       "</svg>\r\n"
      ],
      "text/plain": [
       "<graphviz.files.Source at 0x806e6a0>"
      ]
     },
     "execution_count": 3,
     "metadata": {},
     "output_type": "execute_result"
    }
   ],
   "source": [
    "from sklearn.tree import export_graphviz\n",
    "import graphviz\n",
    "dot_data = export_graphviz(clf, out_file=None, \n",
    "                         feature_names=iris.feature_names,  \n",
    "                         class_names=iris.target_names,  \n",
    "                         filled=True, rounded=True,  \n",
    "                         special_characters=True) \n",
    "graph = graphviz.Source(dot_data)\n",
    "graph"
   ]
  },
  {
   "cell_type": "code",
   "execution_count": 24,
   "metadata": {
    "collapsed": true
   },
   "outputs": [],
   "source": [
    "clf?"
   ]
  },
  {
   "cell_type": "markdown",
   "metadata": {},
   "source": [
    "** 超参数 **\n",
    "- max_depth, min_samples_split 等 （避免overfitting）\n",
    "- pruning 越浅的tree越好，越小的tree越好 “奥卡姆剃刀”\n",
    "\n",
    "**决策树方法优缺点**\n",
    " \n",
    " - pros:\n",
    "    - no preprocessing\n",
    "    - invariant to scaling\n",
    "    - flexible datatype (numrical or categrical, classification or regression)\n",
    "    - always available, good or not good\n",
    "    - interpretable\n",
    " - cons:\n",
    "    - not accuracy\n",
    "    - not stable, prone to overfitting\n",
    "    \n",
    "** 其他实际工程中可能遇到的问题**\n",
    "\n",
    "- favors attributes with many values over those with few values, because of \"information gain\". 不显著影响用户体验或工作效率的前提下，信息记录查可以尽量详细一点，有详细职业的问题，比仅区分白领、蓝领的问题信息量要大；但又不能太细，例如不能依据客户的出身年月日作为标准，否则由于每个leaf的成员太少，overfitting可能性很高\n",
    "\n",
    "\n",
    "- if attribute missing, use major value, 也可概率性处理这个attribute但更复杂\n",
    "\n",
    "\n",
    "- cost-factor，通过修改information gain的定义，来优先选择low cost 的attribute（如医疗问题中，血压、血糖、体温等指标，优选血压体温。如自动驾驶中优选传感采集时间快的指标）"
   ]
  },
  {
   "cell_type": "markdown",
   "metadata": {},
   "source": [
    "## 2. Random Forests"
   ]
  },
  {
   "cell_type": "markdown",
   "metadata": {},
   "source": [
    "DT 不稳定，因此采用“系综”(ensemble)方法 stablize 结果。可以简单理解为，很多tree投票，取大多数tree支持的结果\n",
    "\n",
    "![vote](images/vote.jpg)\n"
   ]
  },
  {
   "cell_type": "code",
   "execution_count": 28,
   "metadata": {
    "scrolled": true
   },
   "outputs": [
    {
     "name": "stdout",
     "output_type": "stream",
     "text": [
      "{'max_depth': 5}\n"
     ]
    }
   ],
   "source": [
    "from sklearn.model_selection import GridSearchCV\n",
    "from sklearn.ensemble import RandomForestClassifier\n",
    "\n",
    "x_train, x_test, y_train, y_test = train_test_split(iris.data, iris.target, train_size=0.8, random_state=1)\n",
    "\n",
    "\n",
    "rf = RandomForestClassifier(n_estimators=200)\n",
    "parameters = {'max_depth':[5, 7, 9]}\n",
    "\n",
    "clf_grid = GridSearchCV(rf, parameters, n_jobs=-1)\n",
    "clf_grid.fit(x_train, y_train)\n",
    "print(clf_grid.best_params_)"
   ]
  },
  {
   "cell_type": "code",
   "execution_count": 30,
   "metadata": {},
   "outputs": [
    {
     "data": {
      "text/plain": [
       "1.0"
      ]
     },
     "execution_count": 30,
     "metadata": {},
     "output_type": "execute_result"
    }
   ],
   "source": [
    "clf_grid.score(x_train, y_train)"
   ]
  },
  {
   "cell_type": "code",
   "execution_count": 31,
   "metadata": {},
   "outputs": [
    {
     "data": {
      "text/plain": [
       "0.96666666666666667"
      ]
     },
     "execution_count": 31,
     "metadata": {},
     "output_type": "execute_result"
    }
   ],
   "source": [
    "clf_grid.score(x_test, y_test)"
   ]
  }
 ],
 "metadata": {
  "kernelspec": {
   "display_name": "Python 2",
   "language": "python",
   "name": "python2"
  },
  "language_info": {
   "codemirror_mode": {
    "name": "ipython",
    "version": 2
   },
   "file_extension": ".py",
   "mimetype": "text/x-python",
   "name": "python",
   "nbconvert_exporter": "python",
   "pygments_lexer": "ipython2",
   "version": "2.7.14"
  }
 },
 "nbformat": 4,
 "nbformat_minor": 2
}
