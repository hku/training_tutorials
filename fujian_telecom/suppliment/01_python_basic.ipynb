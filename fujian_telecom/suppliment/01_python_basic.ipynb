{
 "cells": [
  {
   "cell_type": "markdown",
   "metadata": {},
   "source": [
    "# Tutorial_01: python basics"
   ]
  },
  {
   "cell_type": "markdown",
   "metadata": {},
   "source": [
    "## 1. python2 and python3"
   ]
  },
  {
   "cell_type": "code",
   "execution_count": 3,
   "metadata": {},
   "outputs": [
    {
     "name": "stderr",
     "output_type": "stream",
     "text": [
      "Python 2.7.14 :: Anaconda custom (64-bit)\n"
     ]
    }
   ],
   "source": [
    " !python --version"
   ]
  },
  {
   "cell_type": "markdown",
   "metadata": {},
   "source": [
    "- 主要区别：\n",
    "\n",
    "    - python3 中无 xrange\n",
    "    - division 行为不一样\n",
    "    - print 函数等语法不一样\n",
    "    - 其他\n",
    "        - python3 unicode 支持更好等\n",
    "        - [other difference](http://sebastianraschka.com/Articles/2014_python_2_3_key_diff.html)"
   ]
  },
  {
   "cell_type": "markdown",
   "metadata": {},
   "source": [
    "- python2.7中使用 ```__future__``` 引入部分必要的python3改进, 例如："
   ]
  },
  {
   "cell_type": "code",
   "execution_count": 5,
   "metadata": {},
   "outputs": [
    {
     "name": "stdout",
     "output_type": "stream",
     "text": [
      "0.5\n"
     ]
    }
   ],
   "source": [
    "# print(1/2)\n",
    "from __future__ import division\n",
    "print(1/2)\n",
    "# print(1//2)"
   ]
  },
  {
   "cell_type": "markdown",
   "metadata": {},
   "source": [
    "- 常用代码片段：\n",
    "```\n",
    "#encoding=utf-8\n",
    "from __future__ import absolute_import, division, print_function\n",
    "```"
   ]
  },
  {
   "cell_type": "markdown",
   "metadata": {},
   "source": [
    "## 2. scopes （作用域） "
   ]
  },
  {
   "cell_type": "markdown",
   "metadata": {},
   "source": [
    "- LEGB-rule:  Local -> Enclosing -> Global -> Built-in\n",
    "\n",
    "    Local: 一个函数/方法内部。\n",
    "    \n",
    "    Enclosing: 包含了非局部(non-local)也非全局(non-global)的变量，如嵌套函数 \n",
    "    \n",
    "    Global: 当前脚本的最外层。\n",
    "    \n",
    "    Built-in: Python __builtin__, 包含了内建的变量/关键字等。"
   ]
  },
  {
   "cell_type": "code",
   "execution_count": 11,
   "metadata": {
    "scrolled": false
   },
   "outputs": [],
   "source": [
    "# dir()\n",
    "# dir(__builtin__)\n",
    "# import numpy\n",
    "# dir()\n",
    "# dir(numpy)"
   ]
  },
  {
   "cell_type": "markdown",
   "metadata": {},
   "source": [
    "- for-loop, if 等不会引入新的作用域"
   ]
  },
  {
   "cell_type": "markdown",
   "metadata": {},
   "source": [
    "- 常用的特殊全局变量\n",
    "```\n",
    "if __name__ == '__main__':\n",
    "    pass\n",
    "```"
   ]
  },
  {
   "cell_type": "markdown",
   "metadata": {},
   "source": [
    "## 3. modules(模块化)\n",
    "\n",
    "简单高效的 file/directory-based 模块化机制\n",
    "\n",
    "[how to define modules](https://docs.python.org/2/tutorial/modules.html)"
   ]
  },
  {
   "cell_type": "code",
   "execution_count": null,
   "metadata": {
    "collapsed": true
   },
   "outputs": [],
   "source": [
    "%load scripts/test.py"
   ]
  },
  {
   "cell_type": "code",
   "execution_count": 17,
   "metadata": {
    "collapsed": true
   },
   "outputs": [],
   "source": [
    "from scripts.test import printX\n",
    "printX()"
   ]
  },
  {
   "cell_type": "markdown",
   "metadata": {},
   "source": [
    "## 4. built-in 数据类型"
   ]
  },
  {
   "cell_type": "markdown",
   "metadata": {},
   "source": [
    "- basic immutables: int, float, str etc."
   ]
  },
  {
   "cell_type": "markdown",
   "metadata": {},
   "source": [
    "- **list**: 常用的“数组型”数据"
   ]
  },
  {
   "cell_type": "code",
   "execution_count": 18,
   "metadata": {},
   "outputs": [
    {
     "data": {
      "text/plain": [
       "[1, 2, 3, 4]"
      ]
     },
     "execution_count": 18,
     "metadata": {},
     "output_type": "execute_result"
    }
   ],
   "source": [
    "# list 常用方法\n",
    "\n",
    "# dir([])\n",
    "list.append\n",
    "\n",
    "# x=[3,2,1]\n",
    "# x.append(4)\n",
    "# x.sort()\n",
    "x\n",
    "\n",
    "# [1,2] + [3,4,5]"
   ]
  },
  {
   "cell_type": "code",
   "execution_count": 5,
   "metadata": {
    "collapsed": true
   },
   "outputs": [],
   "source": [
    "# list 常用的 \"语法糖\" （syntactic sugar）\n",
    "\n",
    "# List Comprehension\n",
    "# lst = [\"idx_%d\" % idx for idx in range(10)] \n",
    "\n",
    "# lst = [x if flag else y for flag, x, y in zip([True,False,False],[4,5,6], [7,8,9])]\n",
    "\n",
    "# for i, x in enumerate(['a', 'b', 'c']):\n",
    "#     pass"
   ]
  },
  {
   "cell_type": "markdown",
   "metadata": {},
   "source": [
    "- **dict**: 常用的key-value数据 （类json，但key可以是任意immutable，如placeholder）"
   ]
  },
  {
   "cell_type": "code",
   "execution_count": 7,
   "metadata": {
    "collapsed": true
   },
   "outputs": [],
   "source": [
    "# list 常用方法\n",
    "\n",
    "# dir({})\n",
    "# dict.clear?\n",
    "\n",
    "# x={'a':1, 'b':2} #  \n",
    "# x[\"a\"]\n",
    "# x.get(\"a\", default_value)\n",
    "\n",
    "# \"a\" in x\n",
    "# for k in x:\n",
    "#     pass"
   ]
  },
  {
   "cell_type": "markdown",
   "metadata": {},
   "source": [
    "- **set**: 集合运算"
   ]
  },
  {
   "cell_type": "code",
   "execution_count": null,
   "metadata": {
    "collapsed": true
   },
   "outputs": [],
   "source": [
    "# a={1,2}\n",
    "# a=set([1,2])\n",
    "# b=set([])\n",
    "\n",
    "# a | b\n",
    "# a & b\n",
    "# a - b\n",
    "\n",
    "# a.add\n",
    "# a.remove\n",
    "\n",
    "# a.issuperset\n",
    "# a.issubset\n",
    "\n",
    "# 1 in a\n",
    "# for k in a:\n",
    "#     pass"
   ]
  },
  {
   "cell_type": "markdown",
   "metadata": {},
   "source": [
    "- 其他数据类型，如file (类似 Iterator)"
   ]
  },
  {
   "cell_type": "code",
   "execution_count": 13,
   "metadata": {
    "collapsed": true
   },
   "outputs": [],
   "source": [
    "# f=open(\"scripts/test.py\")\n",
    "# dir(f)\n",
    "# f.readlines?\n",
    "\n",
    "# for line in f:\n",
    "#     print(line)\n",
    "# f.close()\n",
    "\n",
    "# with open(\"scripts/test.py\", 'w') as f:\n",
    "#     f.write(\"text\" + '\\n')\n",
    "\n",
    "# with open(\"scripts/test.py\", 'r') as f:\n",
    "#     lines = f.readlines()"
   ]
  },
  {
   "cell_type": "markdown",
   "metadata": {},
   "source": [
    "## 5. functions （FP）"
   ]
  },
  {
   "cell_type": "markdown",
   "metadata": {},
   "source": [
    "- function 是“头等公民”: 可被传参，可被返回，可被赋值"
   ]
  },
  {
   "cell_type": "code",
   "execution_count": 42,
   "metadata": {
    "collapsed": true
   },
   "outputs": [],
   "source": [
    "def add(x, y):\n",
    "    return x + y\n",
    "\n",
    "def f(func, x):\n",
    "    def ff(y):\n",
    "        return func(x, y)\n",
    "    return ff\n",
    "\n",
    "\n",
    "factory = f\n",
    "\n",
    "add1 = factory(add, 1)\n",
    "\n",
    "# add1(5)\n"
   ]
  },
  {
   "cell_type": "markdown",
   "metadata": {},
   "source": [
    "- 函数闭包（closure）：简单高效地实现“作用域”隔离"
   ]
  },
  {
   "cell_type": "code",
   "execution_count": 15,
   "metadata": {
    "collapsed": true
   },
   "outputs": [],
   "source": [
    "def factory():\n",
    "    v = \"I am the secret\"\n",
    "    def func():\n",
    "        print(v)\n",
    "    return func\n",
    "\n",
    "f=factory()\n",
    "# f()"
   ]
  },
  {
   "cell_type": "markdown",
   "metadata": {},
   "source": [
    "- 匿名变量：“弹性”的变量声明"
   ]
  },
  {
   "cell_type": "code",
   "execution_count": 44,
   "metadata": {
    "collapsed": true
   },
   "outputs": [],
   "source": [
    "def f(x, y=1, *args, **kwargs):\n",
    "    print(type(args)) # tuple, collect position arguments\n",
    "    print(type(kwargs)) # dict, collect keyword arguments\n",
    "    pass"
   ]
  },
  {
   "cell_type": "markdown",
   "metadata": {},
   "source": [
    "- 匿名函数（lambda function）：作为“值”的inline函数"
   ]
  },
  {
   "cell_type": "code",
   "execution_count": 53,
   "metadata": {
    "collapsed": true
   },
   "outputs": [],
   "source": [
    "f=lambda x,y:x+y\n",
    "\n",
    "# map(lambda a: a*a, [1,-1,2])"
   ]
  },
  {
   "cell_type": "markdown",
   "metadata": {},
   "source": [
    "## 6. classes (OOP)"
   ]
  },
  {
   "cell_type": "code",
   "execution_count": 33,
   "metadata": {
    "collapsed": true
   },
   "outputs": [],
   "source": [
    "import numpy as np\n",
    "class Model(object): # 继承 object\n",
    "    def __init__(self, input_size, hidden_size=100): #默认参数\n",
    "        self.input_size = input_size\n",
    "        self._weights = np.zeros((input_size, hidden_size))\n",
    "        \n",
    "        \n",
    "    def fit(self):\n",
    "        pass\n",
    "\n",
    "    @property\n",
    "    def weights(self): #属性 getter\n",
    "        return self._weights\n",
    "    \n",
    "    @weights.setter\n",
    "    def weights(self, value): # 属性 setter\n",
    "        self._weights = value\n",
    "\n",
    "model = Model(200)\n",
    "\n",
    "# type(model)\n",
    "\n",
    "# isinstance(model, Model)\n",
    "\n",
    "# model2 = model\n",
    "# model2 is model\n",
    "\n",
    "# model3 = Model(200)\n",
    "# model3 is model"
   ]
  },
  {
   "cell_type": "markdown",
   "metadata": {},
   "source": [
    "## 6. 常用的工具函数"
   ]
  },
  {
   "cell_type": "code",
   "execution_count": null,
   "metadata": {
    "collapsed": true
   },
   "outputs": [],
   "source": [
    "import os\n",
    "dirname = os.path.join(os.getcwd(), \"test\")\n",
    "try:\n",
    "    os.makedirs(dirname)\n",
    "    # print(\"dirname: %s\" % dirname)\n",
    "except:\n",
    "    pass\n",
    "\n",
    "\n",
    "import time\n",
    "start = time.time()\n",
    "elapse = time.time() - start\n",
    "print(elapse)\n",
    "\n",
    "\n",
    "import argparse\n",
    "parser = argparse.ArgumentParser(description='training a model...')\n",
    "parser.add_argument('--input_size', type=int, default=784, required=False, help='default 784')\n",
    "args = parser.parse_args()\n",
    "\n",
    "### etc....."
   ]
  }
 ],
 "metadata": {
  "kernelspec": {
   "display_name": "Python 2",
   "language": "python",
   "name": "python2"
  },
  "language_info": {
   "codemirror_mode": {
    "name": "ipython",
    "version": 2
   },
   "file_extension": ".py",
   "mimetype": "text/x-python",
   "name": "python",
   "nbconvert_exporter": "python",
   "pygments_lexer": "ipython2",
   "version": "2.7.14"
  }
 },
 "nbformat": 4,
 "nbformat_minor": 2
}
