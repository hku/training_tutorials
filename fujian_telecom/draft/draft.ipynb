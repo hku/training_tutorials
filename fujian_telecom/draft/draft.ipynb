{
 "cells": [
  {
   "cell_type": "markdown",
   "metadata": {},
   "source": [
    "![gradient](res/gradient.gif)"
   ]
  },
  {
   "cell_type": "markdown",
   "metadata": {},
   "source": [
    "### 定义\n",
    "\n",
    "**偏微分**\n",
    "\n",
    "$$ z = \\sqrt{1-x^2-y^2}$$\n",
    "\n",
    "$${\\partial z \\over \\partial x}=-{x\\over \\sqrt{1-x^2-y^2}}, {\\partial z \\over \\partial y}=-{y\\over \\sqrt{1-x^2-y^2}}$$\n",
    "\n",
    "**梯度**\n",
    "\n",
    "$$\\nabla z = {1\\over \\sqrt{1-x^2-y^2}}\\left[\\begin{align}-x\\\\-y\\end{align}\\right]$$"
   ]
  },
  {
   "cell_type": "markdown",
   "metadata": {},
   "source": [
    "### 为什么“梯度”表示最陡方向？\n",
    "\n",
    "![contours](res/contours.jpg)\n",
    "\n",
    "原因: 梯度垂直等高线\n",
    "\n",
    "验证：梯度沿着经线的方向"
   ]
  },
  {
   "cell_type": "markdown",
   "metadata": {},
   "source": [
    "### 梯度下降算法\n",
    "\n",
    "问题：求 $J(\\theta)$ 的极小值\n",
    "\n",
    "$$\\theta_{t+1} = \\theta_t -\\eta\\nabla J(\\theta_t)$$\n",
    "\n",
    "** Batch  Gradient Descent **\n",
    "\n",
    "$$\\hat{p}_i = \\left[\\begin{align}\\sigma(wx_i+b)\\\\1-\\sigma(wx_i+b)\\end{align}\\right]$$\n",
    "$$p_i = \\left[\\begin{align}y_i\\\\1-y_i\\end{align}\\right]$$\n",
    "$$ J(w,b) = {1\\over N}\\sum\\limits_{i\\in batch} \\left[ -y_i\\log\\sigma(wx_i+b) - (1-y_i)\\log\\left(1-\\sigma(wx_i+b)\\right)\\right]\\equiv {1\\over N}\\sum\\limits_{i\\in batch} f_i(w,b)$$\n",
    "\n",
    "\n",
    "$$\\theta_{t+1} = \\theta_t -\\eta\\nabla \\left[{1\\over N}\\sum\\limits_{i\\in batch} f_i(\\theta)\\right]$$\n",
    "\n",
    "优点：收敛稳定一致\n",
    "\n",
    "缺点：计算量巨大、local minimum\n",
    "\n",
    "\n",
    "** Stochastic Gradient Descent **\n",
    "\n",
    "$$\\theta_{t+1} \\approx \\theta_t -\\eta\\nabla \\left[{1\\over K}\\sum\\limits_{i\\in mini-batch} f_i(\\theta)\\right]$$\n",
    "\n",
    "优点：计算量较小，易逃脱 local minumum\n",
    "\n",
    "缺点：收敛性 fluctuation\n",
    "\n",
    "问题：slow near saddle point\n",
    "\n",
    "**Vanilla Momentum**\n",
    "\n",
    "$$ \\begin{align}v_{t} &= \\gamma v_{t-1} +\\eta \\nabla J(\\theta_{t})\\\\\n",
    "\\theta_{t+1} &=\\theta_{t} - v_t \\end{align}   $$\n",
    "\n",
    "![momentum](res/momentum.png)\n",
    "\n",
    "优点：惯性加速\n",
    "\n",
    "问题：\"跑过了\"\n",
    "\n",
    "计算举例：\n",
    "\n",
    "$$v_0=\\eta k,v_1=\\gamma v_0 +\\eta k = \\eta k (1 + \\gamma), v_2= \\eta k (1 +\\gamma + \\gamma^2),\\cdots$$\n",
    "\n",
    "** Nesterov Accelerated Gradient **\n",
    "\n",
    "idea: future gradient\n",
    "\n",
    "$$ \\begin{align}v_{t} &= \\gamma v_{t-1} +\\eta \\nabla J(\\theta_{t}-\\gamma v_{t-1})\\\\\n",
    "\\theta_{t+1} &=\\theta_{t} - v_t \\end{align}   $$\n",
    "\n",
    "优点： 缓解“跑过了”的问题\n",
    "\n",
    "问题：各参数学习率一致，期望对于unblanced sparse data学习率应该更高\n",
    "\n"
   ]
  }
 ],
 "metadata": {
  "kernelspec": {
   "display_name": "Python 2",
   "language": "python",
   "name": "python2"
  },
  "language_info": {
   "codemirror_mode": {
    "name": "ipython",
    "version": 2
   },
   "file_extension": ".py",
   "mimetype": "text/x-python",
   "name": "python",
   "nbconvert_exporter": "python",
   "pygments_lexer": "ipython2",
   "version": "2.7.15"
  }
 },
 "nbformat": 4,
 "nbformat_minor": 2
}
